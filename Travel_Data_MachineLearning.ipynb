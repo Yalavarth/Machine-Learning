{
 "cells": [
  {
   "cell_type": "code",
   "execution_count": 1,
   "id": "f3e634e3",
   "metadata": {},
   "outputs": [],
   "source": [
    "import numpy as np\n",
    "import pandas as pd\n",
    "import seaborn as sns\n",
    "import matplotlib.pyplot as plt"
   ]
  },
  {
   "cell_type": "code",
   "execution_count": 2,
   "id": "3c6059d5",
   "metadata": {},
   "outputs": [],
   "source": [
    "df = pd.read_csv(r\"C:\\Users\\Yalavarthi Saadhika\\Desktop\\Datasets\\travel_dataset.csv\")"
   ]
  },
  {
   "cell_type": "code",
   "execution_count": 3,
   "id": "d8c530f3",
   "metadata": {},
   "outputs": [
    {
     "data": {
      "text/html": [
       "<div>\n",
       "<style scoped>\n",
       "    .dataframe tbody tr th:only-of-type {\n",
       "        vertical-align: middle;\n",
       "    }\n",
       "\n",
       "    .dataframe tbody tr th {\n",
       "        vertical-align: top;\n",
       "    }\n",
       "\n",
       "    .dataframe thead th {\n",
       "        text-align: right;\n",
       "    }\n",
       "</style>\n",
       "<table border=\"1\" class=\"dataframe\">\n",
       "  <thead>\n",
       "    <tr style=\"text-align: right;\">\n",
       "      <th></th>\n",
       "      <th>CustomerID</th>\n",
       "      <th>ProdTaken</th>\n",
       "      <th>Age</th>\n",
       "      <th>TypeofContact</th>\n",
       "      <th>CityTier</th>\n",
       "      <th>DurationOfPitch</th>\n",
       "      <th>Occupation</th>\n",
       "      <th>Gender</th>\n",
       "      <th>NumberOfPersonVisiting</th>\n",
       "      <th>NumberOfFollowups</th>\n",
       "      <th>ProductPitched</th>\n",
       "      <th>PreferredPropertyStar</th>\n",
       "      <th>MaritalStatus</th>\n",
       "      <th>NumberOfTrips</th>\n",
       "      <th>Passport</th>\n",
       "      <th>PitchSatisfactionScore</th>\n",
       "      <th>OwnCar</th>\n",
       "      <th>NumberOfChildrenVisiting</th>\n",
       "      <th>Designation</th>\n",
       "      <th>MonthlyIncome</th>\n",
       "    </tr>\n",
       "  </thead>\n",
       "  <tbody>\n",
       "    <tr>\n",
       "      <th>0</th>\n",
       "      <td>200000</td>\n",
       "      <td>1</td>\n",
       "      <td>41.0</td>\n",
       "      <td>Self Enquiry</td>\n",
       "      <td>3</td>\n",
       "      <td>6.0</td>\n",
       "      <td>Salaried</td>\n",
       "      <td>Female</td>\n",
       "      <td>3</td>\n",
       "      <td>3.0</td>\n",
       "      <td>Deluxe</td>\n",
       "      <td>3.0</td>\n",
       "      <td>Single</td>\n",
       "      <td>1.0</td>\n",
       "      <td>1</td>\n",
       "      <td>2</td>\n",
       "      <td>1</td>\n",
       "      <td>0.0</td>\n",
       "      <td>Manager</td>\n",
       "      <td>20993.0</td>\n",
       "    </tr>\n",
       "    <tr>\n",
       "      <th>1</th>\n",
       "      <td>200001</td>\n",
       "      <td>0</td>\n",
       "      <td>49.0</td>\n",
       "      <td>Company Invited</td>\n",
       "      <td>1</td>\n",
       "      <td>14.0</td>\n",
       "      <td>Salaried</td>\n",
       "      <td>Male</td>\n",
       "      <td>3</td>\n",
       "      <td>4.0</td>\n",
       "      <td>Deluxe</td>\n",
       "      <td>4.0</td>\n",
       "      <td>Divorced</td>\n",
       "      <td>2.0</td>\n",
       "      <td>0</td>\n",
       "      <td>3</td>\n",
       "      <td>1</td>\n",
       "      <td>2.0</td>\n",
       "      <td>Manager</td>\n",
       "      <td>20130.0</td>\n",
       "    </tr>\n",
       "    <tr>\n",
       "      <th>2</th>\n",
       "      <td>200002</td>\n",
       "      <td>1</td>\n",
       "      <td>37.0</td>\n",
       "      <td>Self Enquiry</td>\n",
       "      <td>1</td>\n",
       "      <td>8.0</td>\n",
       "      <td>Free Lancer</td>\n",
       "      <td>Male</td>\n",
       "      <td>3</td>\n",
       "      <td>4.0</td>\n",
       "      <td>Basic</td>\n",
       "      <td>3.0</td>\n",
       "      <td>Single</td>\n",
       "      <td>7.0</td>\n",
       "      <td>1</td>\n",
       "      <td>3</td>\n",
       "      <td>0</td>\n",
       "      <td>0.0</td>\n",
       "      <td>Executive</td>\n",
       "      <td>17090.0</td>\n",
       "    </tr>\n",
       "    <tr>\n",
       "      <th>3</th>\n",
       "      <td>200003</td>\n",
       "      <td>0</td>\n",
       "      <td>33.0</td>\n",
       "      <td>Company Invited</td>\n",
       "      <td>1</td>\n",
       "      <td>9.0</td>\n",
       "      <td>Salaried</td>\n",
       "      <td>Female</td>\n",
       "      <td>2</td>\n",
       "      <td>3.0</td>\n",
       "      <td>Basic</td>\n",
       "      <td>3.0</td>\n",
       "      <td>Divorced</td>\n",
       "      <td>2.0</td>\n",
       "      <td>1</td>\n",
       "      <td>5</td>\n",
       "      <td>1</td>\n",
       "      <td>1.0</td>\n",
       "      <td>Executive</td>\n",
       "      <td>17909.0</td>\n",
       "    </tr>\n",
       "    <tr>\n",
       "      <th>4</th>\n",
       "      <td>200004</td>\n",
       "      <td>0</td>\n",
       "      <td>NaN</td>\n",
       "      <td>Self Enquiry</td>\n",
       "      <td>1</td>\n",
       "      <td>8.0</td>\n",
       "      <td>Small Business</td>\n",
       "      <td>Male</td>\n",
       "      <td>2</td>\n",
       "      <td>3.0</td>\n",
       "      <td>Basic</td>\n",
       "      <td>4.0</td>\n",
       "      <td>Divorced</td>\n",
       "      <td>1.0</td>\n",
       "      <td>0</td>\n",
       "      <td>5</td>\n",
       "      <td>1</td>\n",
       "      <td>0.0</td>\n",
       "      <td>Executive</td>\n",
       "      <td>18468.0</td>\n",
       "    </tr>\n",
       "  </tbody>\n",
       "</table>\n",
       "</div>"
      ],
      "text/plain": [
       "   CustomerID  ProdTaken   Age    TypeofContact  CityTier  DurationOfPitch  \\\n",
       "0      200000          1  41.0     Self Enquiry         3              6.0   \n",
       "1      200001          0  49.0  Company Invited         1             14.0   \n",
       "2      200002          1  37.0     Self Enquiry         1              8.0   \n",
       "3      200003          0  33.0  Company Invited         1              9.0   \n",
       "4      200004          0   NaN     Self Enquiry         1              8.0   \n",
       "\n",
       "       Occupation  Gender  NumberOfPersonVisiting  NumberOfFollowups  \\\n",
       "0        Salaried  Female                       3                3.0   \n",
       "1        Salaried    Male                       3                4.0   \n",
       "2     Free Lancer    Male                       3                4.0   \n",
       "3        Salaried  Female                       2                3.0   \n",
       "4  Small Business    Male                       2                3.0   \n",
       "\n",
       "  ProductPitched  PreferredPropertyStar MaritalStatus  NumberOfTrips  \\\n",
       "0         Deluxe                    3.0        Single            1.0   \n",
       "1         Deluxe                    4.0      Divorced            2.0   \n",
       "2          Basic                    3.0        Single            7.0   \n",
       "3          Basic                    3.0      Divorced            2.0   \n",
       "4          Basic                    4.0      Divorced            1.0   \n",
       "\n",
       "   Passport  PitchSatisfactionScore  OwnCar  NumberOfChildrenVisiting  \\\n",
       "0         1                       2       1                       0.0   \n",
       "1         0                       3       1                       2.0   \n",
       "2         1                       3       0                       0.0   \n",
       "3         1                       5       1                       1.0   \n",
       "4         0                       5       1                       0.0   \n",
       "\n",
       "  Designation  MonthlyIncome  \n",
       "0     Manager        20993.0  \n",
       "1     Manager        20130.0  \n",
       "2   Executive        17090.0  \n",
       "3   Executive        17909.0  \n",
       "4   Executive        18468.0  "
      ]
     },
     "execution_count": 3,
     "metadata": {},
     "output_type": "execute_result"
    }
   ],
   "source": [
    "df.head()"
   ]
  },
  {
   "cell_type": "code",
   "execution_count": 4,
   "id": "46c95e51",
   "metadata": {},
   "outputs": [
    {
     "data": {
      "text/plain": [
       "(4888, 20)"
      ]
     },
     "execution_count": 4,
     "metadata": {},
     "output_type": "execute_result"
    }
   ],
   "source": [
    "df.shape"
   ]
  },
  {
   "cell_type": "code",
   "execution_count": 5,
   "id": "38b85d56",
   "metadata": {},
   "outputs": [
    {
     "data": {
      "text/plain": [
       "Index(['CustomerID', 'ProdTaken', 'Age', 'TypeofContact', 'CityTier',\n",
       "       'DurationOfPitch', 'Occupation', 'Gender', 'NumberOfPersonVisiting',\n",
       "       'NumberOfFollowups', 'ProductPitched', 'PreferredPropertyStar',\n",
       "       'MaritalStatus', 'NumberOfTrips', 'Passport', 'PitchSatisfactionScore',\n",
       "       'OwnCar', 'NumberOfChildrenVisiting', 'Designation', 'MonthlyIncome'],\n",
       "      dtype='object')"
      ]
     },
     "execution_count": 5,
     "metadata": {},
     "output_type": "execute_result"
    }
   ],
   "source": [
    "df.columns"
   ]
  },
  {
   "cell_type": "code",
   "execution_count": 6,
   "id": "65168635",
   "metadata": {},
   "outputs": [
    {
     "name": "stdout",
     "output_type": "stream",
     "text": [
      "<class 'pandas.core.frame.DataFrame'>\n",
      "RangeIndex: 4888 entries, 0 to 4887\n",
      "Data columns (total 20 columns):\n",
      " #   Column                    Non-Null Count  Dtype  \n",
      "---  ------                    --------------  -----  \n",
      " 0   CustomerID                4888 non-null   int64  \n",
      " 1   ProdTaken                 4888 non-null   int64  \n",
      " 2   Age                       4662 non-null   float64\n",
      " 3   TypeofContact             4863 non-null   object \n",
      " 4   CityTier                  4888 non-null   int64  \n",
      " 5   DurationOfPitch           4637 non-null   float64\n",
      " 6   Occupation                4888 non-null   object \n",
      " 7   Gender                    4888 non-null   object \n",
      " 8   NumberOfPersonVisiting    4888 non-null   int64  \n",
      " 9   NumberOfFollowups         4843 non-null   float64\n",
      " 10  ProductPitched            4888 non-null   object \n",
      " 11  PreferredPropertyStar     4862 non-null   float64\n",
      " 12  MaritalStatus             4888 non-null   object \n",
      " 13  NumberOfTrips             4748 non-null   float64\n",
      " 14  Passport                  4888 non-null   int64  \n",
      " 15  PitchSatisfactionScore    4888 non-null   int64  \n",
      " 16  OwnCar                    4888 non-null   int64  \n",
      " 17  NumberOfChildrenVisiting  4822 non-null   float64\n",
      " 18  Designation               4888 non-null   object \n",
      " 19  MonthlyIncome             4655 non-null   float64\n",
      "dtypes: float64(7), int64(7), object(6)\n",
      "memory usage: 763.9+ KB\n"
     ]
    }
   ],
   "source": [
    "df.info()"
   ]
  },
  {
   "cell_type": "code",
   "execution_count": 7,
   "id": "388c988d",
   "metadata": {},
   "outputs": [
    {
     "data": {
      "text/plain": [
       "0"
      ]
     },
     "execution_count": 7,
     "metadata": {},
     "output_type": "execute_result"
    }
   ],
   "source": [
    "df.duplicated().sum()"
   ]
  },
  {
   "cell_type": "code",
   "execution_count": 8,
   "id": "ef88c8e9",
   "metadata": {},
   "outputs": [],
   "source": [
    "df.drop_duplicates(inplace = True)"
   ]
  },
  {
   "cell_type": "code",
   "execution_count": 9,
   "id": "20e5d5c6",
   "metadata": {},
   "outputs": [
    {
     "data": {
      "text/html": [
       "<div>\n",
       "<style scoped>\n",
       "    .dataframe tbody tr th:only-of-type {\n",
       "        vertical-align: middle;\n",
       "    }\n",
       "\n",
       "    .dataframe tbody tr th {\n",
       "        vertical-align: top;\n",
       "    }\n",
       "\n",
       "    .dataframe thead th {\n",
       "        text-align: right;\n",
       "    }\n",
       "</style>\n",
       "<table border=\"1\" class=\"dataframe\">\n",
       "  <thead>\n",
       "    <tr style=\"text-align: right;\">\n",
       "      <th></th>\n",
       "      <th>CustomerID</th>\n",
       "      <th>ProdTaken</th>\n",
       "      <th>Age</th>\n",
       "      <th>TypeofContact</th>\n",
       "      <th>CityTier</th>\n",
       "      <th>DurationOfPitch</th>\n",
       "      <th>Occupation</th>\n",
       "      <th>Gender</th>\n",
       "      <th>NumberOfPersonVisiting</th>\n",
       "      <th>NumberOfFollowups</th>\n",
       "      <th>ProductPitched</th>\n",
       "      <th>PreferredPropertyStar</th>\n",
       "      <th>MaritalStatus</th>\n",
       "      <th>NumberOfTrips</th>\n",
       "      <th>Passport</th>\n",
       "      <th>PitchSatisfactionScore</th>\n",
       "      <th>OwnCar</th>\n",
       "      <th>NumberOfChildrenVisiting</th>\n",
       "      <th>Designation</th>\n",
       "      <th>MonthlyIncome</th>\n",
       "    </tr>\n",
       "  </thead>\n",
       "  <tbody>\n",
       "    <tr>\n",
       "      <th>0</th>\n",
       "      <td>200000</td>\n",
       "      <td>1</td>\n",
       "      <td>41.0</td>\n",
       "      <td>Self Enquiry</td>\n",
       "      <td>3</td>\n",
       "      <td>6.0</td>\n",
       "      <td>Salaried</td>\n",
       "      <td>Female</td>\n",
       "      <td>3</td>\n",
       "      <td>3.0</td>\n",
       "      <td>Deluxe</td>\n",
       "      <td>3.0</td>\n",
       "      <td>Single</td>\n",
       "      <td>1.0</td>\n",
       "      <td>1</td>\n",
       "      <td>2</td>\n",
       "      <td>1</td>\n",
       "      <td>0.0</td>\n",
       "      <td>Manager</td>\n",
       "      <td>20993.0</td>\n",
       "    </tr>\n",
       "    <tr>\n",
       "      <th>1</th>\n",
       "      <td>200001</td>\n",
       "      <td>0</td>\n",
       "      <td>49.0</td>\n",
       "      <td>Company Invited</td>\n",
       "      <td>1</td>\n",
       "      <td>14.0</td>\n",
       "      <td>Salaried</td>\n",
       "      <td>Male</td>\n",
       "      <td>3</td>\n",
       "      <td>4.0</td>\n",
       "      <td>Deluxe</td>\n",
       "      <td>4.0</td>\n",
       "      <td>Divorced</td>\n",
       "      <td>2.0</td>\n",
       "      <td>0</td>\n",
       "      <td>3</td>\n",
       "      <td>1</td>\n",
       "      <td>2.0</td>\n",
       "      <td>Manager</td>\n",
       "      <td>20130.0</td>\n",
       "    </tr>\n",
       "    <tr>\n",
       "      <th>2</th>\n",
       "      <td>200002</td>\n",
       "      <td>1</td>\n",
       "      <td>37.0</td>\n",
       "      <td>Self Enquiry</td>\n",
       "      <td>1</td>\n",
       "      <td>8.0</td>\n",
       "      <td>Free Lancer</td>\n",
       "      <td>Male</td>\n",
       "      <td>3</td>\n",
       "      <td>4.0</td>\n",
       "      <td>Basic</td>\n",
       "      <td>3.0</td>\n",
       "      <td>Single</td>\n",
       "      <td>7.0</td>\n",
       "      <td>1</td>\n",
       "      <td>3</td>\n",
       "      <td>0</td>\n",
       "      <td>0.0</td>\n",
       "      <td>Executive</td>\n",
       "      <td>17090.0</td>\n",
       "    </tr>\n",
       "    <tr>\n",
       "      <th>3</th>\n",
       "      <td>200003</td>\n",
       "      <td>0</td>\n",
       "      <td>33.0</td>\n",
       "      <td>Company Invited</td>\n",
       "      <td>1</td>\n",
       "      <td>9.0</td>\n",
       "      <td>Salaried</td>\n",
       "      <td>Female</td>\n",
       "      <td>2</td>\n",
       "      <td>3.0</td>\n",
       "      <td>Basic</td>\n",
       "      <td>3.0</td>\n",
       "      <td>Divorced</td>\n",
       "      <td>2.0</td>\n",
       "      <td>1</td>\n",
       "      <td>5</td>\n",
       "      <td>1</td>\n",
       "      <td>1.0</td>\n",
       "      <td>Executive</td>\n",
       "      <td>17909.0</td>\n",
       "    </tr>\n",
       "    <tr>\n",
       "      <th>4</th>\n",
       "      <td>200004</td>\n",
       "      <td>0</td>\n",
       "      <td>NaN</td>\n",
       "      <td>Self Enquiry</td>\n",
       "      <td>1</td>\n",
       "      <td>8.0</td>\n",
       "      <td>Small Business</td>\n",
       "      <td>Male</td>\n",
       "      <td>2</td>\n",
       "      <td>3.0</td>\n",
       "      <td>Basic</td>\n",
       "      <td>4.0</td>\n",
       "      <td>Divorced</td>\n",
       "      <td>1.0</td>\n",
       "      <td>0</td>\n",
       "      <td>5</td>\n",
       "      <td>1</td>\n",
       "      <td>0.0</td>\n",
       "      <td>Executive</td>\n",
       "      <td>18468.0</td>\n",
       "    </tr>\n",
       "  </tbody>\n",
       "</table>\n",
       "</div>"
      ],
      "text/plain": [
       "   CustomerID  ProdTaken   Age    TypeofContact  CityTier  DurationOfPitch  \\\n",
       "0      200000          1  41.0     Self Enquiry         3              6.0   \n",
       "1      200001          0  49.0  Company Invited         1             14.0   \n",
       "2      200002          1  37.0     Self Enquiry         1              8.0   \n",
       "3      200003          0  33.0  Company Invited         1              9.0   \n",
       "4      200004          0   NaN     Self Enquiry         1              8.0   \n",
       "\n",
       "       Occupation  Gender  NumberOfPersonVisiting  NumberOfFollowups  \\\n",
       "0        Salaried  Female                       3                3.0   \n",
       "1        Salaried    Male                       3                4.0   \n",
       "2     Free Lancer    Male                       3                4.0   \n",
       "3        Salaried  Female                       2                3.0   \n",
       "4  Small Business    Male                       2                3.0   \n",
       "\n",
       "  ProductPitched  PreferredPropertyStar MaritalStatus  NumberOfTrips  \\\n",
       "0         Deluxe                    3.0        Single            1.0   \n",
       "1         Deluxe                    4.0      Divorced            2.0   \n",
       "2          Basic                    3.0        Single            7.0   \n",
       "3          Basic                    3.0      Divorced            2.0   \n",
       "4          Basic                    4.0      Divorced            1.0   \n",
       "\n",
       "   Passport  PitchSatisfactionScore  OwnCar  NumberOfChildrenVisiting  \\\n",
       "0         1                       2       1                       0.0   \n",
       "1         0                       3       1                       2.0   \n",
       "2         1                       3       0                       0.0   \n",
       "3         1                       5       1                       1.0   \n",
       "4         0                       5       1                       0.0   \n",
       "\n",
       "  Designation  MonthlyIncome  \n",
       "0     Manager        20993.0  \n",
       "1     Manager        20130.0  \n",
       "2   Executive        17090.0  \n",
       "3   Executive        17909.0  \n",
       "4   Executive        18468.0  "
      ]
     },
     "execution_count": 9,
     "metadata": {},
     "output_type": "execute_result"
    }
   ],
   "source": [
    "df.head()"
   ]
  },
  {
   "cell_type": "code",
   "execution_count": 10,
   "id": "c2330ece",
   "metadata": {},
   "outputs": [
    {
     "data": {
      "text/plain": [
       "CustomerID                    0\n",
       "ProdTaken                     0\n",
       "Age                         226\n",
       "TypeofContact                25\n",
       "CityTier                      0\n",
       "DurationOfPitch             251\n",
       "Occupation                    0\n",
       "Gender                        0\n",
       "NumberOfPersonVisiting        0\n",
       "NumberOfFollowups            45\n",
       "ProductPitched                0\n",
       "PreferredPropertyStar        26\n",
       "MaritalStatus                 0\n",
       "NumberOfTrips               140\n",
       "Passport                      0\n",
       "PitchSatisfactionScore        0\n",
       "OwnCar                        0\n",
       "NumberOfChildrenVisiting     66\n",
       "Designation                   0\n",
       "MonthlyIncome               233\n",
       "dtype: int64"
      ]
     },
     "execution_count": 10,
     "metadata": {},
     "output_type": "execute_result"
    }
   ],
   "source": [
    "df.isnull().sum()"
   ]
  },
  {
   "cell_type": "code",
   "execution_count": 11,
   "id": "5f92d7c3",
   "metadata": {},
   "outputs": [],
   "source": [
    "df.dropna(subset = ['Age', 'TypeofContact', 'DurationOfPitch', 'NumberOfFollowups', 'PreferredPropertyStar', 'NumberOfTrips', 'NumberOfChildrenVisiting', 'MonthlyIncome'], inplace = True)"
   ]
  },
  {
   "cell_type": "code",
   "execution_count": 12,
   "id": "92de00df",
   "metadata": {},
   "outputs": [
    {
     "data": {
      "text/html": [
       "<div>\n",
       "<style scoped>\n",
       "    .dataframe tbody tr th:only-of-type {\n",
       "        vertical-align: middle;\n",
       "    }\n",
       "\n",
       "    .dataframe tbody tr th {\n",
       "        vertical-align: top;\n",
       "    }\n",
       "\n",
       "    .dataframe thead th {\n",
       "        text-align: right;\n",
       "    }\n",
       "</style>\n",
       "<table border=\"1\" class=\"dataframe\">\n",
       "  <thead>\n",
       "    <tr style=\"text-align: right;\">\n",
       "      <th></th>\n",
       "      <th>CustomerID</th>\n",
       "      <th>ProdTaken</th>\n",
       "      <th>Age</th>\n",
       "      <th>TypeofContact</th>\n",
       "      <th>CityTier</th>\n",
       "      <th>DurationOfPitch</th>\n",
       "      <th>Occupation</th>\n",
       "      <th>Gender</th>\n",
       "      <th>NumberOfPersonVisiting</th>\n",
       "      <th>NumberOfFollowups</th>\n",
       "      <th>ProductPitched</th>\n",
       "      <th>PreferredPropertyStar</th>\n",
       "      <th>MaritalStatus</th>\n",
       "      <th>NumberOfTrips</th>\n",
       "      <th>Passport</th>\n",
       "      <th>PitchSatisfactionScore</th>\n",
       "      <th>OwnCar</th>\n",
       "      <th>NumberOfChildrenVisiting</th>\n",
       "      <th>Designation</th>\n",
       "      <th>MonthlyIncome</th>\n",
       "    </tr>\n",
       "  </thead>\n",
       "  <tbody>\n",
       "    <tr>\n",
       "      <th>0</th>\n",
       "      <td>200000</td>\n",
       "      <td>1</td>\n",
       "      <td>41.0</td>\n",
       "      <td>Self Enquiry</td>\n",
       "      <td>3</td>\n",
       "      <td>6.0</td>\n",
       "      <td>Salaried</td>\n",
       "      <td>Female</td>\n",
       "      <td>3</td>\n",
       "      <td>3.0</td>\n",
       "      <td>Deluxe</td>\n",
       "      <td>3.0</td>\n",
       "      <td>Single</td>\n",
       "      <td>1.0</td>\n",
       "      <td>1</td>\n",
       "      <td>2</td>\n",
       "      <td>1</td>\n",
       "      <td>0.0</td>\n",
       "      <td>Manager</td>\n",
       "      <td>20993.0</td>\n",
       "    </tr>\n",
       "    <tr>\n",
       "      <th>1</th>\n",
       "      <td>200001</td>\n",
       "      <td>0</td>\n",
       "      <td>49.0</td>\n",
       "      <td>Company Invited</td>\n",
       "      <td>1</td>\n",
       "      <td>14.0</td>\n",
       "      <td>Salaried</td>\n",
       "      <td>Male</td>\n",
       "      <td>3</td>\n",
       "      <td>4.0</td>\n",
       "      <td>Deluxe</td>\n",
       "      <td>4.0</td>\n",
       "      <td>Divorced</td>\n",
       "      <td>2.0</td>\n",
       "      <td>0</td>\n",
       "      <td>3</td>\n",
       "      <td>1</td>\n",
       "      <td>2.0</td>\n",
       "      <td>Manager</td>\n",
       "      <td>20130.0</td>\n",
       "    </tr>\n",
       "    <tr>\n",
       "      <th>2</th>\n",
       "      <td>200002</td>\n",
       "      <td>1</td>\n",
       "      <td>37.0</td>\n",
       "      <td>Self Enquiry</td>\n",
       "      <td>1</td>\n",
       "      <td>8.0</td>\n",
       "      <td>Free Lancer</td>\n",
       "      <td>Male</td>\n",
       "      <td>3</td>\n",
       "      <td>4.0</td>\n",
       "      <td>Basic</td>\n",
       "      <td>3.0</td>\n",
       "      <td>Single</td>\n",
       "      <td>7.0</td>\n",
       "      <td>1</td>\n",
       "      <td>3</td>\n",
       "      <td>0</td>\n",
       "      <td>0.0</td>\n",
       "      <td>Executive</td>\n",
       "      <td>17090.0</td>\n",
       "    </tr>\n",
       "    <tr>\n",
       "      <th>3</th>\n",
       "      <td>200003</td>\n",
       "      <td>0</td>\n",
       "      <td>33.0</td>\n",
       "      <td>Company Invited</td>\n",
       "      <td>1</td>\n",
       "      <td>9.0</td>\n",
       "      <td>Salaried</td>\n",
       "      <td>Female</td>\n",
       "      <td>2</td>\n",
       "      <td>3.0</td>\n",
       "      <td>Basic</td>\n",
       "      <td>3.0</td>\n",
       "      <td>Divorced</td>\n",
       "      <td>2.0</td>\n",
       "      <td>1</td>\n",
       "      <td>5</td>\n",
       "      <td>1</td>\n",
       "      <td>1.0</td>\n",
       "      <td>Executive</td>\n",
       "      <td>17909.0</td>\n",
       "    </tr>\n",
       "    <tr>\n",
       "      <th>5</th>\n",
       "      <td>200005</td>\n",
       "      <td>0</td>\n",
       "      <td>32.0</td>\n",
       "      <td>Company Invited</td>\n",
       "      <td>1</td>\n",
       "      <td>8.0</td>\n",
       "      <td>Salaried</td>\n",
       "      <td>Male</td>\n",
       "      <td>3</td>\n",
       "      <td>3.0</td>\n",
       "      <td>Basic</td>\n",
       "      <td>3.0</td>\n",
       "      <td>Single</td>\n",
       "      <td>1.0</td>\n",
       "      <td>0</td>\n",
       "      <td>5</td>\n",
       "      <td>1</td>\n",
       "      <td>1.0</td>\n",
       "      <td>Executive</td>\n",
       "      <td>18068.0</td>\n",
       "    </tr>\n",
       "  </tbody>\n",
       "</table>\n",
       "</div>"
      ],
      "text/plain": [
       "   CustomerID  ProdTaken   Age    TypeofContact  CityTier  DurationOfPitch  \\\n",
       "0      200000          1  41.0     Self Enquiry         3              6.0   \n",
       "1      200001          0  49.0  Company Invited         1             14.0   \n",
       "2      200002          1  37.0     Self Enquiry         1              8.0   \n",
       "3      200003          0  33.0  Company Invited         1              9.0   \n",
       "5      200005          0  32.0  Company Invited         1              8.0   \n",
       "\n",
       "    Occupation  Gender  NumberOfPersonVisiting  NumberOfFollowups  \\\n",
       "0     Salaried  Female                       3                3.0   \n",
       "1     Salaried    Male                       3                4.0   \n",
       "2  Free Lancer    Male                       3                4.0   \n",
       "3     Salaried  Female                       2                3.0   \n",
       "5     Salaried    Male                       3                3.0   \n",
       "\n",
       "  ProductPitched  PreferredPropertyStar MaritalStatus  NumberOfTrips  \\\n",
       "0         Deluxe                    3.0        Single            1.0   \n",
       "1         Deluxe                    4.0      Divorced            2.0   \n",
       "2          Basic                    3.0        Single            7.0   \n",
       "3          Basic                    3.0      Divorced            2.0   \n",
       "5          Basic                    3.0        Single            1.0   \n",
       "\n",
       "   Passport  PitchSatisfactionScore  OwnCar  NumberOfChildrenVisiting  \\\n",
       "0         1                       2       1                       0.0   \n",
       "1         0                       3       1                       2.0   \n",
       "2         1                       3       0                       0.0   \n",
       "3         1                       5       1                       1.0   \n",
       "5         0                       5       1                       1.0   \n",
       "\n",
       "  Designation  MonthlyIncome  \n",
       "0     Manager        20993.0  \n",
       "1     Manager        20130.0  \n",
       "2   Executive        17090.0  \n",
       "3   Executive        17909.0  \n",
       "5   Executive        18068.0  "
      ]
     },
     "execution_count": 12,
     "metadata": {},
     "output_type": "execute_result"
    }
   ],
   "source": [
    "df.head()"
   ]
  },
  {
   "cell_type": "code",
   "execution_count": 13,
   "id": "17e350ae",
   "metadata": {},
   "outputs": [
    {
     "data": {
      "text/plain": [
       "(4128, 20)"
      ]
     },
     "execution_count": 13,
     "metadata": {},
     "output_type": "execute_result"
    }
   ],
   "source": [
    "df.shape"
   ]
  },
  {
   "cell_type": "code",
   "execution_count": 14,
   "id": "3cf6385d",
   "metadata": {},
   "outputs": [],
   "source": [
    "df.drop(['CustomerID'],axis =1,inplace = True)"
   ]
  },
  {
   "cell_type": "code",
   "execution_count": 15,
   "id": "3d8850c6",
   "metadata": {},
   "outputs": [
    {
     "data": {
      "text/html": [
       "<div>\n",
       "<style scoped>\n",
       "    .dataframe tbody tr th:only-of-type {\n",
       "        vertical-align: middle;\n",
       "    }\n",
       "\n",
       "    .dataframe tbody tr th {\n",
       "        vertical-align: top;\n",
       "    }\n",
       "\n",
       "    .dataframe thead th {\n",
       "        text-align: right;\n",
       "    }\n",
       "</style>\n",
       "<table border=\"1\" class=\"dataframe\">\n",
       "  <thead>\n",
       "    <tr style=\"text-align: right;\">\n",
       "      <th></th>\n",
       "      <th>ProdTaken</th>\n",
       "      <th>Age</th>\n",
       "      <th>TypeofContact</th>\n",
       "      <th>CityTier</th>\n",
       "      <th>DurationOfPitch</th>\n",
       "      <th>Occupation</th>\n",
       "      <th>Gender</th>\n",
       "      <th>NumberOfPersonVisiting</th>\n",
       "      <th>NumberOfFollowups</th>\n",
       "      <th>ProductPitched</th>\n",
       "      <th>PreferredPropertyStar</th>\n",
       "      <th>MaritalStatus</th>\n",
       "      <th>NumberOfTrips</th>\n",
       "      <th>Passport</th>\n",
       "      <th>PitchSatisfactionScore</th>\n",
       "      <th>OwnCar</th>\n",
       "      <th>NumberOfChildrenVisiting</th>\n",
       "      <th>Designation</th>\n",
       "      <th>MonthlyIncome</th>\n",
       "    </tr>\n",
       "  </thead>\n",
       "  <tbody>\n",
       "    <tr>\n",
       "      <th>0</th>\n",
       "      <td>1</td>\n",
       "      <td>41.0</td>\n",
       "      <td>Self Enquiry</td>\n",
       "      <td>3</td>\n",
       "      <td>6.0</td>\n",
       "      <td>Salaried</td>\n",
       "      <td>Female</td>\n",
       "      <td>3</td>\n",
       "      <td>3.0</td>\n",
       "      <td>Deluxe</td>\n",
       "      <td>3.0</td>\n",
       "      <td>Single</td>\n",
       "      <td>1.0</td>\n",
       "      <td>1</td>\n",
       "      <td>2</td>\n",
       "      <td>1</td>\n",
       "      <td>0.0</td>\n",
       "      <td>Manager</td>\n",
       "      <td>20993.0</td>\n",
       "    </tr>\n",
       "    <tr>\n",
       "      <th>1</th>\n",
       "      <td>0</td>\n",
       "      <td>49.0</td>\n",
       "      <td>Company Invited</td>\n",
       "      <td>1</td>\n",
       "      <td>14.0</td>\n",
       "      <td>Salaried</td>\n",
       "      <td>Male</td>\n",
       "      <td>3</td>\n",
       "      <td>4.0</td>\n",
       "      <td>Deluxe</td>\n",
       "      <td>4.0</td>\n",
       "      <td>Divorced</td>\n",
       "      <td>2.0</td>\n",
       "      <td>0</td>\n",
       "      <td>3</td>\n",
       "      <td>1</td>\n",
       "      <td>2.0</td>\n",
       "      <td>Manager</td>\n",
       "      <td>20130.0</td>\n",
       "    </tr>\n",
       "    <tr>\n",
       "      <th>2</th>\n",
       "      <td>1</td>\n",
       "      <td>37.0</td>\n",
       "      <td>Self Enquiry</td>\n",
       "      <td>1</td>\n",
       "      <td>8.0</td>\n",
       "      <td>Free Lancer</td>\n",
       "      <td>Male</td>\n",
       "      <td>3</td>\n",
       "      <td>4.0</td>\n",
       "      <td>Basic</td>\n",
       "      <td>3.0</td>\n",
       "      <td>Single</td>\n",
       "      <td>7.0</td>\n",
       "      <td>1</td>\n",
       "      <td>3</td>\n",
       "      <td>0</td>\n",
       "      <td>0.0</td>\n",
       "      <td>Executive</td>\n",
       "      <td>17090.0</td>\n",
       "    </tr>\n",
       "  </tbody>\n",
       "</table>\n",
       "</div>"
      ],
      "text/plain": [
       "   ProdTaken   Age    TypeofContact  CityTier  DurationOfPitch   Occupation  \\\n",
       "0          1  41.0     Self Enquiry         3              6.0     Salaried   \n",
       "1          0  49.0  Company Invited         1             14.0     Salaried   \n",
       "2          1  37.0     Self Enquiry         1              8.0  Free Lancer   \n",
       "\n",
       "   Gender  NumberOfPersonVisiting  NumberOfFollowups ProductPitched  \\\n",
       "0  Female                       3                3.0         Deluxe   \n",
       "1    Male                       3                4.0         Deluxe   \n",
       "2    Male                       3                4.0          Basic   \n",
       "\n",
       "   PreferredPropertyStar MaritalStatus  NumberOfTrips  Passport  \\\n",
       "0                    3.0        Single            1.0         1   \n",
       "1                    4.0      Divorced            2.0         0   \n",
       "2                    3.0        Single            7.0         1   \n",
       "\n",
       "   PitchSatisfactionScore  OwnCar  NumberOfChildrenVisiting Designation  \\\n",
       "0                       2       1                       0.0     Manager   \n",
       "1                       3       1                       2.0     Manager   \n",
       "2                       3       0                       0.0   Executive   \n",
       "\n",
       "   MonthlyIncome  \n",
       "0        20993.0  \n",
       "1        20130.0  \n",
       "2        17090.0  "
      ]
     },
     "execution_count": 15,
     "metadata": {},
     "output_type": "execute_result"
    }
   ],
   "source": [
    "df.head(3)"
   ]
  },
  {
   "cell_type": "markdown",
   "id": "890065e0",
   "metadata": {},
   "source": [
    "# Step 1 "
   ]
  },
  {
   "cell_type": "markdown",
   "id": "e63df9e9",
   "metadata": {},
   "source": [
    "# Identify the Predictor and Target Variables"
   ]
  },
  {
   "cell_type": "raw",
   "id": "401cbe68",
   "metadata": {},
   "source": [
    "ProdTaken is target value and we use classification because Target variable (y) is categorical"
   ]
  },
  {
   "cell_type": "code",
   "execution_count": 16,
   "id": "724fecd0",
   "metadata": {},
   "outputs": [],
   "source": [
    "y = df.pop(\"ProdTaken\")"
   ]
  },
  {
   "cell_type": "code",
   "execution_count": 17,
   "id": "f41fa038",
   "metadata": {},
   "outputs": [],
   "source": [
    "X = df"
   ]
  },
  {
   "cell_type": "code",
   "execution_count": 18,
   "id": "7d03348f",
   "metadata": {},
   "outputs": [
    {
     "data": {
      "text/plain": [
       "0    1\n",
       "1    0\n",
       "2    1\n",
       "3    0\n",
       "5    0\n",
       "Name: ProdTaken, dtype: int64"
      ]
     },
     "execution_count": 18,
     "metadata": {},
     "output_type": "execute_result"
    }
   ],
   "source": [
    "y.head()"
   ]
  },
  {
   "cell_type": "code",
   "execution_count": 19,
   "id": "4b340f8c",
   "metadata": {},
   "outputs": [
    {
     "data": {
      "text/html": [
       "<div>\n",
       "<style scoped>\n",
       "    .dataframe tbody tr th:only-of-type {\n",
       "        vertical-align: middle;\n",
       "    }\n",
       "\n",
       "    .dataframe tbody tr th {\n",
       "        vertical-align: top;\n",
       "    }\n",
       "\n",
       "    .dataframe thead th {\n",
       "        text-align: right;\n",
       "    }\n",
       "</style>\n",
       "<table border=\"1\" class=\"dataframe\">\n",
       "  <thead>\n",
       "    <tr style=\"text-align: right;\">\n",
       "      <th></th>\n",
       "      <th>Age</th>\n",
       "      <th>TypeofContact</th>\n",
       "      <th>CityTier</th>\n",
       "      <th>DurationOfPitch</th>\n",
       "      <th>Occupation</th>\n",
       "      <th>Gender</th>\n",
       "      <th>NumberOfPersonVisiting</th>\n",
       "      <th>NumberOfFollowups</th>\n",
       "      <th>ProductPitched</th>\n",
       "      <th>PreferredPropertyStar</th>\n",
       "      <th>MaritalStatus</th>\n",
       "      <th>NumberOfTrips</th>\n",
       "      <th>Passport</th>\n",
       "      <th>PitchSatisfactionScore</th>\n",
       "      <th>OwnCar</th>\n",
       "      <th>NumberOfChildrenVisiting</th>\n",
       "      <th>Designation</th>\n",
       "      <th>MonthlyIncome</th>\n",
       "    </tr>\n",
       "  </thead>\n",
       "  <tbody>\n",
       "    <tr>\n",
       "      <th>0</th>\n",
       "      <td>41.0</td>\n",
       "      <td>Self Enquiry</td>\n",
       "      <td>3</td>\n",
       "      <td>6.0</td>\n",
       "      <td>Salaried</td>\n",
       "      <td>Female</td>\n",
       "      <td>3</td>\n",
       "      <td>3.0</td>\n",
       "      <td>Deluxe</td>\n",
       "      <td>3.0</td>\n",
       "      <td>Single</td>\n",
       "      <td>1.0</td>\n",
       "      <td>1</td>\n",
       "      <td>2</td>\n",
       "      <td>1</td>\n",
       "      <td>0.0</td>\n",
       "      <td>Manager</td>\n",
       "      <td>20993.0</td>\n",
       "    </tr>\n",
       "    <tr>\n",
       "      <th>1</th>\n",
       "      <td>49.0</td>\n",
       "      <td>Company Invited</td>\n",
       "      <td>1</td>\n",
       "      <td>14.0</td>\n",
       "      <td>Salaried</td>\n",
       "      <td>Male</td>\n",
       "      <td>3</td>\n",
       "      <td>4.0</td>\n",
       "      <td>Deluxe</td>\n",
       "      <td>4.0</td>\n",
       "      <td>Divorced</td>\n",
       "      <td>2.0</td>\n",
       "      <td>0</td>\n",
       "      <td>3</td>\n",
       "      <td>1</td>\n",
       "      <td>2.0</td>\n",
       "      <td>Manager</td>\n",
       "      <td>20130.0</td>\n",
       "    </tr>\n",
       "    <tr>\n",
       "      <th>2</th>\n",
       "      <td>37.0</td>\n",
       "      <td>Self Enquiry</td>\n",
       "      <td>1</td>\n",
       "      <td>8.0</td>\n",
       "      <td>Free Lancer</td>\n",
       "      <td>Male</td>\n",
       "      <td>3</td>\n",
       "      <td>4.0</td>\n",
       "      <td>Basic</td>\n",
       "      <td>3.0</td>\n",
       "      <td>Single</td>\n",
       "      <td>7.0</td>\n",
       "      <td>1</td>\n",
       "      <td>3</td>\n",
       "      <td>0</td>\n",
       "      <td>0.0</td>\n",
       "      <td>Executive</td>\n",
       "      <td>17090.0</td>\n",
       "    </tr>\n",
       "    <tr>\n",
       "      <th>3</th>\n",
       "      <td>33.0</td>\n",
       "      <td>Company Invited</td>\n",
       "      <td>1</td>\n",
       "      <td>9.0</td>\n",
       "      <td>Salaried</td>\n",
       "      <td>Female</td>\n",
       "      <td>2</td>\n",
       "      <td>3.0</td>\n",
       "      <td>Basic</td>\n",
       "      <td>3.0</td>\n",
       "      <td>Divorced</td>\n",
       "      <td>2.0</td>\n",
       "      <td>1</td>\n",
       "      <td>5</td>\n",
       "      <td>1</td>\n",
       "      <td>1.0</td>\n",
       "      <td>Executive</td>\n",
       "      <td>17909.0</td>\n",
       "    </tr>\n",
       "    <tr>\n",
       "      <th>5</th>\n",
       "      <td>32.0</td>\n",
       "      <td>Company Invited</td>\n",
       "      <td>1</td>\n",
       "      <td>8.0</td>\n",
       "      <td>Salaried</td>\n",
       "      <td>Male</td>\n",
       "      <td>3</td>\n",
       "      <td>3.0</td>\n",
       "      <td>Basic</td>\n",
       "      <td>3.0</td>\n",
       "      <td>Single</td>\n",
       "      <td>1.0</td>\n",
       "      <td>0</td>\n",
       "      <td>5</td>\n",
       "      <td>1</td>\n",
       "      <td>1.0</td>\n",
       "      <td>Executive</td>\n",
       "      <td>18068.0</td>\n",
       "    </tr>\n",
       "  </tbody>\n",
       "</table>\n",
       "</div>"
      ],
      "text/plain": [
       "    Age    TypeofContact  CityTier  DurationOfPitch   Occupation  Gender  \\\n",
       "0  41.0     Self Enquiry         3              6.0     Salaried  Female   \n",
       "1  49.0  Company Invited         1             14.0     Salaried    Male   \n",
       "2  37.0     Self Enquiry         1              8.0  Free Lancer    Male   \n",
       "3  33.0  Company Invited         1              9.0     Salaried  Female   \n",
       "5  32.0  Company Invited         1              8.0     Salaried    Male   \n",
       "\n",
       "   NumberOfPersonVisiting  NumberOfFollowups ProductPitched  \\\n",
       "0                       3                3.0         Deluxe   \n",
       "1                       3                4.0         Deluxe   \n",
       "2                       3                4.0          Basic   \n",
       "3                       2                3.0          Basic   \n",
       "5                       3                3.0          Basic   \n",
       "\n",
       "   PreferredPropertyStar MaritalStatus  NumberOfTrips  Passport  \\\n",
       "0                    3.0        Single            1.0         1   \n",
       "1                    4.0      Divorced            2.0         0   \n",
       "2                    3.0        Single            7.0         1   \n",
       "3                    3.0      Divorced            2.0         1   \n",
       "5                    3.0        Single            1.0         0   \n",
       "\n",
       "   PitchSatisfactionScore  OwnCar  NumberOfChildrenVisiting Designation  \\\n",
       "0                       2       1                       0.0     Manager   \n",
       "1                       3       1                       2.0     Manager   \n",
       "2                       3       0                       0.0   Executive   \n",
       "3                       5       1                       1.0   Executive   \n",
       "5                       5       1                       1.0   Executive   \n",
       "\n",
       "   MonthlyIncome  \n",
       "0        20993.0  \n",
       "1        20130.0  \n",
       "2        17090.0  \n",
       "3        17909.0  \n",
       "5        18068.0  "
      ]
     },
     "execution_count": 19,
     "metadata": {},
     "output_type": "execute_result"
    }
   ],
   "source": [
    "X.head()"
   ]
  },
  {
   "cell_type": "markdown",
   "id": "5b6775f2",
   "metadata": {},
   "source": [
    "# Step 2"
   ]
  },
  {
   "cell_type": "markdown",
   "id": "c5ce33ae",
   "metadata": {},
   "source": [
    "Split the data into train and test"
   ]
  },
  {
   "cell_type": "code",
   "execution_count": 20,
   "id": "1b461c4f",
   "metadata": {},
   "outputs": [],
   "source": [
    "from sklearn.model_selection import train_test_split\n",
    "\n",
    "X_train, X_test, y_train, y_test = train_test_split(X, y, test_size = 0.25, random_state = 0)"
   ]
  },
  {
   "cell_type": "code",
   "execution_count": 21,
   "id": "5dcd7020",
   "metadata": {},
   "outputs": [
    {
     "data": {
      "text/plain": [
       "(3096, 18)"
      ]
     },
     "execution_count": 21,
     "metadata": {},
     "output_type": "execute_result"
    }
   ],
   "source": [
    "X_train.shape"
   ]
  },
  {
   "cell_type": "code",
   "execution_count": 22,
   "id": "03c0f7dc",
   "metadata": {},
   "outputs": [
    {
     "data": {
      "text/plain": [
       "(1032, 18)"
      ]
     },
     "execution_count": 22,
     "metadata": {},
     "output_type": "execute_result"
    }
   ],
   "source": [
    "X_test.shape"
   ]
  },
  {
   "cell_type": "code",
   "execution_count": 23,
   "id": "a4a65473",
   "metadata": {},
   "outputs": [
    {
     "data": {
      "text/plain": [
       "(3096,)"
      ]
     },
     "execution_count": 23,
     "metadata": {},
     "output_type": "execute_result"
    }
   ],
   "source": [
    "y_train.shape"
   ]
  },
  {
   "cell_type": "code",
   "execution_count": 24,
   "id": "fe62ad3b",
   "metadata": {},
   "outputs": [
    {
     "data": {
      "text/plain": [
       "(1032,)"
      ]
     },
     "execution_count": 24,
     "metadata": {},
     "output_type": "execute_result"
    }
   ],
   "source": [
    "y_test.shape"
   ]
  },
  {
   "cell_type": "markdown",
   "id": "f81ae008",
   "metadata": {},
   "source": [
    "# Step 3"
   ]
  },
  {
   "cell_type": "raw",
   "id": "f9f21708",
   "metadata": {},
   "source": [
    "Data preparation 1. Data cleaning 2 . Data preprocessing"
   ]
  },
  {
   "cell_type": "raw",
   "id": "3629a1c0",
   "metadata": {},
   "source": [
    "Based on Data we decide which data preprocessing to be used"
   ]
  },
  {
   "cell_type": "raw",
   "id": "4c783fb1",
   "metadata": {},
   "source": [
    "if Numerical (continous) - Standardization or Normalization \n",
    "\n",
    "if Numerical (Discrete)  - Standardization or Normalization (cardinality is high)   label encoding (cardinality is low)"
   ]
  },
  {
   "cell_type": "raw",
   "id": "3c5597c8",
   "metadata": {},
   "source": [
    "if Categorical (Nominal) - Onehot encoding \n",
    "\n",
    "if Categorical (Ordinal) - Label encoding "
   ]
  },
  {
   "cell_type": "markdown",
   "id": "a076c341",
   "metadata": {},
   "source": [
    "Dividing numerical and categorical for predictor"
   ]
  },
  {
   "cell_type": "code",
   "execution_count": 25,
   "id": "c8860a7c",
   "metadata": {},
   "outputs": [],
   "source": [
    "X_train_cat = X_train.select_dtypes(include=['object'])\n",
    "\n",
    "X_train_num = X_train.select_dtypes(include=['int64', 'float64'])"
   ]
  },
  {
   "cell_type": "code",
   "execution_count": 26,
   "id": "0783e106",
   "metadata": {},
   "outputs": [
    {
     "data": {
      "text/plain": [
       "(3096, 6)"
      ]
     },
     "execution_count": 26,
     "metadata": {},
     "output_type": "execute_result"
    }
   ],
   "source": [
    "X_train_cat.shape                 #from 18 columuns 6 are categorical columns"
   ]
  },
  {
   "cell_type": "code",
   "execution_count": 27,
   "id": "587ec17c",
   "metadata": {},
   "outputs": [
    {
     "data": {
      "text/plain": [
       "(3096, 12)"
      ]
     },
     "execution_count": 27,
     "metadata": {},
     "output_type": "execute_result"
    }
   ],
   "source": [
    "X_train_num.shape                       #remaining 12 are numerical"
   ]
  },
  {
   "cell_type": "markdown",
   "id": "2cd693be",
   "metadata": {},
   "source": [
    "# Data Preprocessing for numerical"
   ]
  },
  {
   "cell_type": "raw",
   "id": "67e101d4",
   "metadata": {},
   "source": [
    "Note for X-train we do fit and transform"
   ]
  },
  {
   "cell_type": "markdown",
   "id": "4f86e7ec",
   "metadata": {},
   "source": [
    "# Standardization"
   ]
  },
  {
   "cell_type": "code",
   "execution_count": 28,
   "id": "3b134dd6",
   "metadata": {},
   "outputs": [],
   "source": [
    "from sklearn.preprocessing import StandardScaler"
   ]
  },
  {
   "cell_type": "code",
   "execution_count": 29,
   "id": "bfd6da3b",
   "metadata": {},
   "outputs": [],
   "source": [
    "scaler = StandardScaler()"
   ]
  },
  {
   "cell_type": "code",
   "execution_count": 30,
   "id": "251010a2",
   "metadata": {},
   "outputs": [],
   "source": [
    "fit_transform_num = scaler.fit_transform(X_train_num)"
   ]
  },
  {
   "cell_type": "code",
   "execution_count": 31,
   "id": "1a5f394a",
   "metadata": {},
   "outputs": [
    {
     "data": {
      "text/plain": [
       "array([[ 0.07725731, -0.71202571, -0.78135955, ..., -1.24340365,\n",
       "        -0.27055028, -0.55908855],\n",
       "       [-0.7968903 ,  1.46519069,  0.16037833, ..., -1.24340365,\n",
       "        -0.27055028, -0.43153859],\n",
       "       [-0.68762185, -0.71202571,  0.04266109, ...,  0.80424406,\n",
       "         0.90095135, -0.33217903],\n",
       "       ...,\n",
       "       [ 0.51433112, -0.71202571, -0.89907679, ...,  0.80424406,\n",
       "        -0.27055028, -1.31075521],\n",
       "       [-1.12469566, -0.71202571, -0.78135955, ...,  0.80424406,\n",
       "        -0.27055028, -0.57017985],\n",
       "       [ 1.27921029, -0.71202571, -0.78135955, ..., -1.24340365,\n",
       "         2.07245299, -0.4507173 ]])"
      ]
     },
     "execution_count": 31,
     "metadata": {},
     "output_type": "execute_result"
    }
   ],
   "source": [
    "fit_transform_num"
   ]
  },
  {
   "cell_type": "code",
   "execution_count": 32,
   "id": "87223675",
   "metadata": {},
   "outputs": [],
   "source": [
    "feature_names_num = scaler.get_feature_names_out()"
   ]
  },
  {
   "cell_type": "code",
   "execution_count": 33,
   "id": "831c830d",
   "metadata": {},
   "outputs": [
    {
     "data": {
      "text/plain": [
       "array(['Age', 'CityTier', 'DurationOfPitch', 'NumberOfPersonVisiting',\n",
       "       'NumberOfFollowups', 'PreferredPropertyStar', 'NumberOfTrips',\n",
       "       'Passport', 'PitchSatisfactionScore', 'OwnCar',\n",
       "       'NumberOfChildrenVisiting', 'MonthlyIncome'], dtype=object)"
      ]
     },
     "execution_count": 33,
     "metadata": {},
     "output_type": "execute_result"
    }
   ],
   "source": [
    "feature_names_num"
   ]
  },
  {
   "cell_type": "code",
   "execution_count": 34,
   "id": "32e88971",
   "metadata": {},
   "outputs": [],
   "source": [
    "X_train_num_tranformed = pd.DataFrame(fit_transform_num , columns = feature_names_num , index = X_train_num.index)"
   ]
  },
  {
   "cell_type": "code",
   "execution_count": 35,
   "id": "db276116",
   "metadata": {},
   "outputs": [
    {
     "data": {
      "text/plain": [
       "(3096, 12)"
      ]
     },
     "execution_count": 35,
     "metadata": {},
     "output_type": "execute_result"
    }
   ],
   "source": [
    "X_train_num_tranformed.shape"
   ]
  },
  {
   "cell_type": "code",
   "execution_count": 36,
   "id": "d0ff0a6b",
   "metadata": {},
   "outputs": [
    {
     "data": {
      "text/html": [
       "<div>\n",
       "<style scoped>\n",
       "    .dataframe tbody tr th:only-of-type {\n",
       "        vertical-align: middle;\n",
       "    }\n",
       "\n",
       "    .dataframe tbody tr th {\n",
       "        vertical-align: top;\n",
       "    }\n",
       "\n",
       "    .dataframe thead th {\n",
       "        text-align: right;\n",
       "    }\n",
       "</style>\n",
       "<table border=\"1\" class=\"dataframe\">\n",
       "  <thead>\n",
       "    <tr style=\"text-align: right;\">\n",
       "      <th></th>\n",
       "      <th>Age</th>\n",
       "      <th>CityTier</th>\n",
       "      <th>DurationOfPitch</th>\n",
       "      <th>NumberOfPersonVisiting</th>\n",
       "      <th>NumberOfFollowups</th>\n",
       "      <th>PreferredPropertyStar</th>\n",
       "      <th>NumberOfTrips</th>\n",
       "      <th>Passport</th>\n",
       "      <th>PitchSatisfactionScore</th>\n",
       "      <th>OwnCar</th>\n",
       "      <th>NumberOfChildrenVisiting</th>\n",
       "      <th>MonthlyIncome</th>\n",
       "    </tr>\n",
       "  </thead>\n",
       "  <tbody>\n",
       "    <tr>\n",
       "      <th>2446</th>\n",
       "      <td>0.077257</td>\n",
       "      <td>-0.712026</td>\n",
       "      <td>-0.781360</td>\n",
       "      <td>1.449975</td>\n",
       "      <td>1.266081</td>\n",
       "      <td>-0.722335</td>\n",
       "      <td>2.529083</td>\n",
       "      <td>1.543893</td>\n",
       "      <td>-0.046531</td>\n",
       "      <td>-1.243404</td>\n",
       "      <td>-0.270550</td>\n",
       "      <td>-0.559089</td>\n",
       "    </tr>\n",
       "    <tr>\n",
       "      <th>2990</th>\n",
       "      <td>-0.796890</td>\n",
       "      <td>1.465191</td>\n",
       "      <td>0.160378</td>\n",
       "      <td>0.067004</td>\n",
       "      <td>0.255827</td>\n",
       "      <td>-0.722335</td>\n",
       "      <td>-0.167026</td>\n",
       "      <td>-0.647713</td>\n",
       "      <td>0.692232</td>\n",
       "      <td>-1.243404</td>\n",
       "      <td>-0.270550</td>\n",
       "      <td>-0.431539</td>\n",
       "    </tr>\n",
       "    <tr>\n",
       "      <th>4087</th>\n",
       "      <td>-0.687622</td>\n",
       "      <td>-0.712026</td>\n",
       "      <td>0.042661</td>\n",
       "      <td>1.449975</td>\n",
       "      <td>0.255827</td>\n",
       "      <td>1.810336</td>\n",
       "      <td>-0.167026</td>\n",
       "      <td>-0.647713</td>\n",
       "      <td>-1.524056</td>\n",
       "      <td>0.804244</td>\n",
       "      <td>0.900951</td>\n",
       "      <td>-0.332179</td>\n",
       "    </tr>\n",
       "    <tr>\n",
       "      <th>3654</th>\n",
       "      <td>-0.359816</td>\n",
       "      <td>-0.712026</td>\n",
       "      <td>1.455268</td>\n",
       "      <td>1.449975</td>\n",
       "      <td>-1.764682</td>\n",
       "      <td>0.544001</td>\n",
       "      <td>-0.167026</td>\n",
       "      <td>-0.647713</td>\n",
       "      <td>-1.524056</td>\n",
       "      <td>0.804244</td>\n",
       "      <td>0.900951</td>\n",
       "      <td>-0.573415</td>\n",
       "    </tr>\n",
       "    <tr>\n",
       "      <th>3434</th>\n",
       "      <td>-0.359816</td>\n",
       "      <td>1.465191</td>\n",
       "      <td>-0.428208</td>\n",
       "      <td>1.449975</td>\n",
       "      <td>0.255827</td>\n",
       "      <td>-0.722335</td>\n",
       "      <td>2.529083</td>\n",
       "      <td>-0.647713</td>\n",
       "      <td>-1.524056</td>\n",
       "      <td>0.804244</td>\n",
       "      <td>2.072453</td>\n",
       "      <td>1.268203</td>\n",
       "    </tr>\n",
       "  </tbody>\n",
       "</table>\n",
       "</div>"
      ],
      "text/plain": [
       "           Age  CityTier  DurationOfPitch  NumberOfPersonVisiting  \\\n",
       "2446  0.077257 -0.712026        -0.781360                1.449975   \n",
       "2990 -0.796890  1.465191         0.160378                0.067004   \n",
       "4087 -0.687622 -0.712026         0.042661                1.449975   \n",
       "3654 -0.359816 -0.712026         1.455268                1.449975   \n",
       "3434 -0.359816  1.465191        -0.428208                1.449975   \n",
       "\n",
       "      NumberOfFollowups  PreferredPropertyStar  NumberOfTrips  Passport  \\\n",
       "2446           1.266081              -0.722335       2.529083  1.543893   \n",
       "2990           0.255827              -0.722335      -0.167026 -0.647713   \n",
       "4087           0.255827               1.810336      -0.167026 -0.647713   \n",
       "3654          -1.764682               0.544001      -0.167026 -0.647713   \n",
       "3434           0.255827              -0.722335       2.529083 -0.647713   \n",
       "\n",
       "      PitchSatisfactionScore    OwnCar  NumberOfChildrenVisiting  \\\n",
       "2446               -0.046531 -1.243404                 -0.270550   \n",
       "2990                0.692232 -1.243404                 -0.270550   \n",
       "4087               -1.524056  0.804244                  0.900951   \n",
       "3654               -1.524056  0.804244                  0.900951   \n",
       "3434               -1.524056  0.804244                  2.072453   \n",
       "\n",
       "      MonthlyIncome  \n",
       "2446      -0.559089  \n",
       "2990      -0.431539  \n",
       "4087      -0.332179  \n",
       "3654      -0.573415  \n",
       "3434       1.268203  "
      ]
     },
     "execution_count": 36,
     "metadata": {},
     "output_type": "execute_result"
    }
   ],
   "source": [
    "X_train_num_tranformed.head()"
   ]
  },
  {
   "cell_type": "markdown",
   "id": "fedb0e11",
   "metadata": {},
   "source": [
    "# Data Preprocessing for categorical #6 (X_train)"
   ]
  },
  {
   "cell_type": "markdown",
   "id": "f8d06045",
   "metadata": {},
   "source": [
    "# Onehot encoding"
   ]
  },
  {
   "cell_type": "code",
   "execution_count": 37,
   "id": "21fb3669",
   "metadata": {},
   "outputs": [],
   "source": [
    "from sklearn.preprocessing import OneHotEncoder"
   ]
  },
  {
   "cell_type": "code",
   "execution_count": 38,
   "id": "5bc51319",
   "metadata": {},
   "outputs": [],
   "source": [
    "encoder_ = OneHotEncoder(sparse_output=False)"
   ]
  },
  {
   "cell_type": "code",
   "execution_count": 39,
   "id": "92cf8376",
   "metadata": {},
   "outputs": [],
   "source": [
    "fit_transform_cat = encoder_.fit_transform(X_train_cat)"
   ]
  },
  {
   "cell_type": "code",
   "execution_count": 40,
   "id": "309d7558",
   "metadata": {},
   "outputs": [
    {
     "data": {
      "text/plain": [
       "array([[0., 1., 1., ..., 0., 0., 0.],\n",
       "       [0., 1., 0., ..., 0., 0., 0.],\n",
       "       [1., 0., 0., ..., 1., 0., 0.],\n",
       "       ...,\n",
       "       [1., 0., 0., ..., 0., 0., 0.],\n",
       "       [1., 0., 0., ..., 0., 0., 0.],\n",
       "       [0., 1., 0., ..., 0., 0., 0.]])"
      ]
     },
     "execution_count": 40,
     "metadata": {},
     "output_type": "execute_result"
    }
   ],
   "source": [
    "fit_transform_cat"
   ]
  },
  {
   "cell_type": "code",
   "execution_count": 41,
   "id": "1c26275f",
   "metadata": {},
   "outputs": [],
   "source": [
    "feature_name_cat = encoder_.get_feature_names_out()"
   ]
  },
  {
   "cell_type": "code",
   "execution_count": 42,
   "id": "44a5514a",
   "metadata": {},
   "outputs": [
    {
     "data": {
      "text/plain": [
       "array(['TypeofContact_Company Invited', 'TypeofContact_Self Enquiry',\n",
       "       'Occupation_Free Lancer', 'Occupation_Large Business',\n",
       "       'Occupation_Salaried', 'Occupation_Small Business',\n",
       "       'Gender_Fe Male', 'Gender_Female', 'Gender_Male',\n",
       "       'ProductPitched_Basic', 'ProductPitched_Deluxe',\n",
       "       'ProductPitched_King', 'ProductPitched_Standard',\n",
       "       'ProductPitched_Super Deluxe', 'MaritalStatus_Divorced',\n",
       "       'MaritalStatus_Married', 'MaritalStatus_Single',\n",
       "       'MaritalStatus_Unmarried', 'Designation_AVP',\n",
       "       'Designation_Executive', 'Designation_Manager',\n",
       "       'Designation_Senior Manager', 'Designation_VP'], dtype=object)"
      ]
     },
     "execution_count": 42,
     "metadata": {},
     "output_type": "execute_result"
    }
   ],
   "source": [
    "feature_name_cat"
   ]
  },
  {
   "cell_type": "code",
   "execution_count": 43,
   "id": "f5c175a2",
   "metadata": {},
   "outputs": [],
   "source": [
    "X_train_cat_tranformed = pd.DataFrame(fit_transform_cat , columns = feature_name_cat , index = X_train_cat.index)"
   ]
  },
  {
   "cell_type": "code",
   "execution_count": 44,
   "id": "a5eff887",
   "metadata": {},
   "outputs": [
    {
     "data": {
      "text/plain": [
       "(3096, 6)"
      ]
     },
     "execution_count": 44,
     "metadata": {},
     "output_type": "execute_result"
    }
   ],
   "source": [
    "X_train_cat.shape       #before transform"
   ]
  },
  {
   "cell_type": "code",
   "execution_count": 45,
   "id": "f334515d",
   "metadata": {},
   "outputs": [
    {
     "data": {
      "text/plain": [
       "(3096, 23)"
      ]
     },
     "execution_count": 45,
     "metadata": {},
     "output_type": "execute_result"
    }
   ],
   "source": [
    "X_train_cat_tranformed.shape      #after transform"
   ]
  },
  {
   "cell_type": "markdown",
   "id": "ecbaee21",
   "metadata": {},
   "source": [
    "# drop first in one hot encoding"
   ]
  },
  {
   "cell_type": "code",
   "execution_count": 46,
   "id": "15f59934",
   "metadata": {},
   "outputs": [],
   "source": [
    "encoder_ = OneHotEncoder(drop='first',sparse_output=False)"
   ]
  },
  {
   "cell_type": "code",
   "execution_count": 47,
   "id": "710f22f0",
   "metadata": {},
   "outputs": [],
   "source": [
    "fit_transform_cat = encoder_.fit_transform(X_train_cat)"
   ]
  },
  {
   "cell_type": "code",
   "execution_count": 48,
   "id": "b9320326",
   "metadata": {},
   "outputs": [],
   "source": [
    "feature_name_cat = encoder_.get_feature_names_out()"
   ]
  },
  {
   "cell_type": "code",
   "execution_count": 49,
   "id": "1a2a40d0",
   "metadata": {},
   "outputs": [],
   "source": [
    "X_train_cat_tranformed = pd.DataFrame(fit_transform_cat , columns = feature_name_cat , index = X_train_cat.index)"
   ]
  },
  {
   "cell_type": "code",
   "execution_count": 50,
   "id": "ae84fbb7",
   "metadata": {},
   "outputs": [
    {
     "data": {
      "text/plain": [
       "(3096, 17)"
      ]
     },
     "execution_count": 50,
     "metadata": {},
     "output_type": "execute_result"
    }
   ],
   "source": [
    "X_train_cat_tranformed.shape   #after tranform with drop first"
   ]
  },
  {
   "cell_type": "code",
   "execution_count": 51,
   "id": "ba187047",
   "metadata": {},
   "outputs": [
    {
     "data": {
      "text/html": [
       "<div>\n",
       "<style scoped>\n",
       "    .dataframe tbody tr th:only-of-type {\n",
       "        vertical-align: middle;\n",
       "    }\n",
       "\n",
       "    .dataframe tbody tr th {\n",
       "        vertical-align: top;\n",
       "    }\n",
       "\n",
       "    .dataframe thead th {\n",
       "        text-align: right;\n",
       "    }\n",
       "</style>\n",
       "<table border=\"1\" class=\"dataframe\">\n",
       "  <thead>\n",
       "    <tr style=\"text-align: right;\">\n",
       "      <th></th>\n",
       "      <th>TypeofContact_Self Enquiry</th>\n",
       "      <th>Occupation_Large Business</th>\n",
       "      <th>Occupation_Salaried</th>\n",
       "      <th>Occupation_Small Business</th>\n",
       "      <th>Gender_Female</th>\n",
       "      <th>Gender_Male</th>\n",
       "      <th>ProductPitched_Deluxe</th>\n",
       "      <th>ProductPitched_King</th>\n",
       "      <th>ProductPitched_Standard</th>\n",
       "      <th>ProductPitched_Super Deluxe</th>\n",
       "      <th>MaritalStatus_Married</th>\n",
       "      <th>MaritalStatus_Single</th>\n",
       "      <th>MaritalStatus_Unmarried</th>\n",
       "      <th>Designation_Executive</th>\n",
       "      <th>Designation_Manager</th>\n",
       "      <th>Designation_Senior Manager</th>\n",
       "      <th>Designation_VP</th>\n",
       "    </tr>\n",
       "  </thead>\n",
       "  <tbody>\n",
       "    <tr>\n",
       "      <th>2446</th>\n",
       "      <td>1.0</td>\n",
       "      <td>0.0</td>\n",
       "      <td>0.0</td>\n",
       "      <td>0.0</td>\n",
       "      <td>0.0</td>\n",
       "      <td>1.0</td>\n",
       "      <td>0.0</td>\n",
       "      <td>0.0</td>\n",
       "      <td>0.0</td>\n",
       "      <td>0.0</td>\n",
       "      <td>0.0</td>\n",
       "      <td>1.0</td>\n",
       "      <td>0.0</td>\n",
       "      <td>1.0</td>\n",
       "      <td>0.0</td>\n",
       "      <td>0.0</td>\n",
       "      <td>0.0</td>\n",
       "    </tr>\n",
       "    <tr>\n",
       "      <th>2990</th>\n",
       "      <td>1.0</td>\n",
       "      <td>0.0</td>\n",
       "      <td>1.0</td>\n",
       "      <td>0.0</td>\n",
       "      <td>0.0</td>\n",
       "      <td>1.0</td>\n",
       "      <td>0.0</td>\n",
       "      <td>0.0</td>\n",
       "      <td>0.0</td>\n",
       "      <td>0.0</td>\n",
       "      <td>0.0</td>\n",
       "      <td>0.0</td>\n",
       "      <td>1.0</td>\n",
       "      <td>1.0</td>\n",
       "      <td>0.0</td>\n",
       "      <td>0.0</td>\n",
       "      <td>0.0</td>\n",
       "    </tr>\n",
       "    <tr>\n",
       "      <th>4087</th>\n",
       "      <td>0.0</td>\n",
       "      <td>0.0</td>\n",
       "      <td>0.0</td>\n",
       "      <td>1.0</td>\n",
       "      <td>0.0</td>\n",
       "      <td>1.0</td>\n",
       "      <td>1.0</td>\n",
       "      <td>0.0</td>\n",
       "      <td>0.0</td>\n",
       "      <td>0.0</td>\n",
       "      <td>1.0</td>\n",
       "      <td>0.0</td>\n",
       "      <td>0.0</td>\n",
       "      <td>0.0</td>\n",
       "      <td>1.0</td>\n",
       "      <td>0.0</td>\n",
       "      <td>0.0</td>\n",
       "    </tr>\n",
       "    <tr>\n",
       "      <th>3654</th>\n",
       "      <td>1.0</td>\n",
       "      <td>0.0</td>\n",
       "      <td>0.0</td>\n",
       "      <td>1.0</td>\n",
       "      <td>0.0</td>\n",
       "      <td>1.0</td>\n",
       "      <td>0.0</td>\n",
       "      <td>0.0</td>\n",
       "      <td>0.0</td>\n",
       "      <td>0.0</td>\n",
       "      <td>1.0</td>\n",
       "      <td>0.0</td>\n",
       "      <td>0.0</td>\n",
       "      <td>1.0</td>\n",
       "      <td>0.0</td>\n",
       "      <td>0.0</td>\n",
       "      <td>0.0</td>\n",
       "    </tr>\n",
       "    <tr>\n",
       "      <th>3434</th>\n",
       "      <td>0.0</td>\n",
       "      <td>0.0</td>\n",
       "      <td>1.0</td>\n",
       "      <td>0.0</td>\n",
       "      <td>0.0</td>\n",
       "      <td>1.0</td>\n",
       "      <td>1.0</td>\n",
       "      <td>0.0</td>\n",
       "      <td>0.0</td>\n",
       "      <td>0.0</td>\n",
       "      <td>0.0</td>\n",
       "      <td>0.0</td>\n",
       "      <td>0.0</td>\n",
       "      <td>0.0</td>\n",
       "      <td>1.0</td>\n",
       "      <td>0.0</td>\n",
       "      <td>0.0</td>\n",
       "    </tr>\n",
       "  </tbody>\n",
       "</table>\n",
       "</div>"
      ],
      "text/plain": [
       "      TypeofContact_Self Enquiry  Occupation_Large Business  \\\n",
       "2446                         1.0                        0.0   \n",
       "2990                         1.0                        0.0   \n",
       "4087                         0.0                        0.0   \n",
       "3654                         1.0                        0.0   \n",
       "3434                         0.0                        0.0   \n",
       "\n",
       "      Occupation_Salaried  Occupation_Small Business  Gender_Female  \\\n",
       "2446                  0.0                        0.0            0.0   \n",
       "2990                  1.0                        0.0            0.0   \n",
       "4087                  0.0                        1.0            0.0   \n",
       "3654                  0.0                        1.0            0.0   \n",
       "3434                  1.0                        0.0            0.0   \n",
       "\n",
       "      Gender_Male  ProductPitched_Deluxe  ProductPitched_King  \\\n",
       "2446          1.0                    0.0                  0.0   \n",
       "2990          1.0                    0.0                  0.0   \n",
       "4087          1.0                    1.0                  0.0   \n",
       "3654          1.0                    0.0                  0.0   \n",
       "3434          1.0                    1.0                  0.0   \n",
       "\n",
       "      ProductPitched_Standard  ProductPitched_Super Deluxe  \\\n",
       "2446                      0.0                          0.0   \n",
       "2990                      0.0                          0.0   \n",
       "4087                      0.0                          0.0   \n",
       "3654                      0.0                          0.0   \n",
       "3434                      0.0                          0.0   \n",
       "\n",
       "      MaritalStatus_Married  MaritalStatus_Single  MaritalStatus_Unmarried  \\\n",
       "2446                    0.0                   1.0                      0.0   \n",
       "2990                    0.0                   0.0                      1.0   \n",
       "4087                    1.0                   0.0                      0.0   \n",
       "3654                    1.0                   0.0                      0.0   \n",
       "3434                    0.0                   0.0                      0.0   \n",
       "\n",
       "      Designation_Executive  Designation_Manager  Designation_Senior Manager  \\\n",
       "2446                    1.0                  0.0                         0.0   \n",
       "2990                    1.0                  0.0                         0.0   \n",
       "4087                    0.0                  1.0                         0.0   \n",
       "3654                    1.0                  0.0                         0.0   \n",
       "3434                    0.0                  1.0                         0.0   \n",
       "\n",
       "      Designation_VP  \n",
       "2446             0.0  \n",
       "2990             0.0  \n",
       "4087             0.0  \n",
       "3654             0.0  \n",
       "3434             0.0  "
      ]
     },
     "execution_count": 51,
     "metadata": {},
     "output_type": "execute_result"
    }
   ],
   "source": [
    "X_train_cat_tranformed.head()"
   ]
  },
  {
   "cell_type": "markdown",
   "id": "9d4948df",
   "metadata": {},
   "source": [
    "# X-train"
   ]
  },
  {
   "cell_type": "code",
   "execution_count": 52,
   "id": "d6aec831",
   "metadata": {},
   "outputs": [
    {
     "data": {
      "text/html": [
       "<div>\n",
       "<style scoped>\n",
       "    .dataframe tbody tr th:only-of-type {\n",
       "        vertical-align: middle;\n",
       "    }\n",
       "\n",
       "    .dataframe tbody tr th {\n",
       "        vertical-align: top;\n",
       "    }\n",
       "\n",
       "    .dataframe thead th {\n",
       "        text-align: right;\n",
       "    }\n",
       "</style>\n",
       "<table border=\"1\" class=\"dataframe\">\n",
       "  <thead>\n",
       "    <tr style=\"text-align: right;\">\n",
       "      <th></th>\n",
       "      <th>Age</th>\n",
       "      <th>CityTier</th>\n",
       "      <th>DurationOfPitch</th>\n",
       "      <th>NumberOfPersonVisiting</th>\n",
       "      <th>NumberOfFollowups</th>\n",
       "      <th>PreferredPropertyStar</th>\n",
       "      <th>NumberOfTrips</th>\n",
       "      <th>Passport</th>\n",
       "      <th>PitchSatisfactionScore</th>\n",
       "      <th>OwnCar</th>\n",
       "      <th>...</th>\n",
       "      <th>ProductPitched_King</th>\n",
       "      <th>ProductPitched_Standard</th>\n",
       "      <th>ProductPitched_Super Deluxe</th>\n",
       "      <th>MaritalStatus_Married</th>\n",
       "      <th>MaritalStatus_Single</th>\n",
       "      <th>MaritalStatus_Unmarried</th>\n",
       "      <th>Designation_Executive</th>\n",
       "      <th>Designation_Manager</th>\n",
       "      <th>Designation_Senior Manager</th>\n",
       "      <th>Designation_VP</th>\n",
       "    </tr>\n",
       "  </thead>\n",
       "  <tbody>\n",
       "    <tr>\n",
       "      <th>2446</th>\n",
       "      <td>0.077257</td>\n",
       "      <td>-0.712026</td>\n",
       "      <td>-0.781360</td>\n",
       "      <td>1.449975</td>\n",
       "      <td>1.266081</td>\n",
       "      <td>-0.722335</td>\n",
       "      <td>2.529083</td>\n",
       "      <td>1.543893</td>\n",
       "      <td>-0.046531</td>\n",
       "      <td>-1.243404</td>\n",
       "      <td>...</td>\n",
       "      <td>0.0</td>\n",
       "      <td>0.0</td>\n",
       "      <td>0.0</td>\n",
       "      <td>0.0</td>\n",
       "      <td>1.0</td>\n",
       "      <td>0.0</td>\n",
       "      <td>1.0</td>\n",
       "      <td>0.0</td>\n",
       "      <td>0.0</td>\n",
       "      <td>0.0</td>\n",
       "    </tr>\n",
       "    <tr>\n",
       "      <th>2990</th>\n",
       "      <td>-0.796890</td>\n",
       "      <td>1.465191</td>\n",
       "      <td>0.160378</td>\n",
       "      <td>0.067004</td>\n",
       "      <td>0.255827</td>\n",
       "      <td>-0.722335</td>\n",
       "      <td>-0.167026</td>\n",
       "      <td>-0.647713</td>\n",
       "      <td>0.692232</td>\n",
       "      <td>-1.243404</td>\n",
       "      <td>...</td>\n",
       "      <td>0.0</td>\n",
       "      <td>0.0</td>\n",
       "      <td>0.0</td>\n",
       "      <td>0.0</td>\n",
       "      <td>0.0</td>\n",
       "      <td>1.0</td>\n",
       "      <td>1.0</td>\n",
       "      <td>0.0</td>\n",
       "      <td>0.0</td>\n",
       "      <td>0.0</td>\n",
       "    </tr>\n",
       "    <tr>\n",
       "      <th>4087</th>\n",
       "      <td>-0.687622</td>\n",
       "      <td>-0.712026</td>\n",
       "      <td>0.042661</td>\n",
       "      <td>1.449975</td>\n",
       "      <td>0.255827</td>\n",
       "      <td>1.810336</td>\n",
       "      <td>-0.167026</td>\n",
       "      <td>-0.647713</td>\n",
       "      <td>-1.524056</td>\n",
       "      <td>0.804244</td>\n",
       "      <td>...</td>\n",
       "      <td>0.0</td>\n",
       "      <td>0.0</td>\n",
       "      <td>0.0</td>\n",
       "      <td>1.0</td>\n",
       "      <td>0.0</td>\n",
       "      <td>0.0</td>\n",
       "      <td>0.0</td>\n",
       "      <td>1.0</td>\n",
       "      <td>0.0</td>\n",
       "      <td>0.0</td>\n",
       "    </tr>\n",
       "    <tr>\n",
       "      <th>3654</th>\n",
       "      <td>-0.359816</td>\n",
       "      <td>-0.712026</td>\n",
       "      <td>1.455268</td>\n",
       "      <td>1.449975</td>\n",
       "      <td>-1.764682</td>\n",
       "      <td>0.544001</td>\n",
       "      <td>-0.167026</td>\n",
       "      <td>-0.647713</td>\n",
       "      <td>-1.524056</td>\n",
       "      <td>0.804244</td>\n",
       "      <td>...</td>\n",
       "      <td>0.0</td>\n",
       "      <td>0.0</td>\n",
       "      <td>0.0</td>\n",
       "      <td>1.0</td>\n",
       "      <td>0.0</td>\n",
       "      <td>0.0</td>\n",
       "      <td>1.0</td>\n",
       "      <td>0.0</td>\n",
       "      <td>0.0</td>\n",
       "      <td>0.0</td>\n",
       "    </tr>\n",
       "    <tr>\n",
       "      <th>3434</th>\n",
       "      <td>-0.359816</td>\n",
       "      <td>1.465191</td>\n",
       "      <td>-0.428208</td>\n",
       "      <td>1.449975</td>\n",
       "      <td>0.255827</td>\n",
       "      <td>-0.722335</td>\n",
       "      <td>2.529083</td>\n",
       "      <td>-0.647713</td>\n",
       "      <td>-1.524056</td>\n",
       "      <td>0.804244</td>\n",
       "      <td>...</td>\n",
       "      <td>0.0</td>\n",
       "      <td>0.0</td>\n",
       "      <td>0.0</td>\n",
       "      <td>0.0</td>\n",
       "      <td>0.0</td>\n",
       "      <td>0.0</td>\n",
       "      <td>0.0</td>\n",
       "      <td>1.0</td>\n",
       "      <td>0.0</td>\n",
       "      <td>0.0</td>\n",
       "    </tr>\n",
       "  </tbody>\n",
       "</table>\n",
       "<p>5 rows × 29 columns</p>\n",
       "</div>"
      ],
      "text/plain": [
       "           Age  CityTier  DurationOfPitch  NumberOfPersonVisiting  \\\n",
       "2446  0.077257 -0.712026        -0.781360                1.449975   \n",
       "2990 -0.796890  1.465191         0.160378                0.067004   \n",
       "4087 -0.687622 -0.712026         0.042661                1.449975   \n",
       "3654 -0.359816 -0.712026         1.455268                1.449975   \n",
       "3434 -0.359816  1.465191        -0.428208                1.449975   \n",
       "\n",
       "      NumberOfFollowups  PreferredPropertyStar  NumberOfTrips  Passport  \\\n",
       "2446           1.266081              -0.722335       2.529083  1.543893   \n",
       "2990           0.255827              -0.722335      -0.167026 -0.647713   \n",
       "4087           0.255827               1.810336      -0.167026 -0.647713   \n",
       "3654          -1.764682               0.544001      -0.167026 -0.647713   \n",
       "3434           0.255827              -0.722335       2.529083 -0.647713   \n",
       "\n",
       "      PitchSatisfactionScore    OwnCar  ...  ProductPitched_King  \\\n",
       "2446               -0.046531 -1.243404  ...                  0.0   \n",
       "2990                0.692232 -1.243404  ...                  0.0   \n",
       "4087               -1.524056  0.804244  ...                  0.0   \n",
       "3654               -1.524056  0.804244  ...                  0.0   \n",
       "3434               -1.524056  0.804244  ...                  0.0   \n",
       "\n",
       "      ProductPitched_Standard  ProductPitched_Super Deluxe  \\\n",
       "2446                      0.0                          0.0   \n",
       "2990                      0.0                          0.0   \n",
       "4087                      0.0                          0.0   \n",
       "3654                      0.0                          0.0   \n",
       "3434                      0.0                          0.0   \n",
       "\n",
       "      MaritalStatus_Married  MaritalStatus_Single  MaritalStatus_Unmarried  \\\n",
       "2446                    0.0                   1.0                      0.0   \n",
       "2990                    0.0                   0.0                      1.0   \n",
       "4087                    1.0                   0.0                      0.0   \n",
       "3654                    1.0                   0.0                      0.0   \n",
       "3434                    0.0                   0.0                      0.0   \n",
       "\n",
       "      Designation_Executive  Designation_Manager  Designation_Senior Manager  \\\n",
       "2446                    1.0                  0.0                         0.0   \n",
       "2990                    1.0                  0.0                         0.0   \n",
       "4087                    0.0                  1.0                         0.0   \n",
       "3654                    1.0                  0.0                         0.0   \n",
       "3434                    0.0                  1.0                         0.0   \n",
       "\n",
       "      Designation_VP  \n",
       "2446             0.0  \n",
       "2990             0.0  \n",
       "4087             0.0  \n",
       "3654             0.0  \n",
       "3434             0.0  \n",
       "\n",
       "[5 rows x 29 columns]"
      ]
     },
     "execution_count": 52,
     "metadata": {},
     "output_type": "execute_result"
    }
   ],
   "source": [
    "X_train_transformed = pd.concat([X_train_num_tranformed, X_train_cat_tranformed], axis=1)\n",
    "\n",
    "X_train_transformed.head()"
   ]
  },
  {
   "cell_type": "markdown",
   "id": "6fe37ab7",
   "metadata": {},
   "source": [
    "# y-train"
   ]
  },
  {
   "cell_type": "code",
   "execution_count": 53,
   "id": "98c37ef1",
   "metadata": {},
   "outputs": [
    {
     "data": {
      "text/plain": [
       "2446    1\n",
       "2990    0\n",
       "4087    0\n",
       "3654    0\n",
       "3434    0\n",
       "Name: ProdTaken, dtype: int64"
      ]
     },
     "execution_count": 53,
     "metadata": {},
     "output_type": "execute_result"
    }
   ],
   "source": [
    "y_train.head()"
   ]
  },
  {
   "cell_type": "markdown",
   "id": "d1972caf",
   "metadata": {},
   "source": [
    "# Step 5"
   ]
  },
  {
   "cell_type": "raw",
   "id": "2a992df4",
   "metadata": {},
   "source": [
    "Preparing x_test"
   ]
  },
  {
   "cell_type": "code",
   "execution_count": 54,
   "id": "62c13814",
   "metadata": {},
   "outputs": [],
   "source": [
    "X_test_cat = X_test.select_dtypes(include=['object'])\n",
    "\n",
    "X_test_num = X_test.select_dtypes(include=['int64', 'float64'])"
   ]
  },
  {
   "cell_type": "code",
   "execution_count": 55,
   "id": "508f28e9",
   "metadata": {},
   "outputs": [
    {
     "data": {
      "text/plain": [
       "(1032, 6)"
      ]
     },
     "execution_count": 55,
     "metadata": {},
     "output_type": "execute_result"
    }
   ],
   "source": [
    "X_test_cat.shape"
   ]
  },
  {
   "cell_type": "code",
   "execution_count": 56,
   "id": "5a133eef",
   "metadata": {},
   "outputs": [
    {
     "data": {
      "text/plain": [
       "(1032, 12)"
      ]
     },
     "execution_count": 56,
     "metadata": {},
     "output_type": "execute_result"
    }
   ],
   "source": [
    "X_test_num.shape"
   ]
  },
  {
   "cell_type": "markdown",
   "id": "d61f69b4",
   "metadata": {},
   "source": [
    "# Data Preprocessing for numerical"
   ]
  },
  {
   "cell_type": "markdown",
   "id": "d1d94b5e",
   "metadata": {},
   "source": [
    "# Standardization"
   ]
  },
  {
   "cell_type": "raw",
   "id": "e072eceb",
   "metadata": {},
   "source": [
    "Note for X-test we only do transform"
   ]
  },
  {
   "cell_type": "code",
   "execution_count": 57,
   "id": "39aa9084",
   "metadata": {},
   "outputs": [],
   "source": [
    "transform_num = scaler.transform(X_test_num)"
   ]
  },
  {
   "cell_type": "code",
   "execution_count": 58,
   "id": "6ad51f5f",
   "metadata": {},
   "outputs": [
    {
     "data": {
      "text/plain": [
       "array([[ 0.18652577,  1.46519069,  1.33755067, ..., -1.24340365,\n",
       "        -1.44205191, -0.56648275],\n",
       "       [-0.25054804,  1.46519069,  0.98439897, ...,  0.80424406,\n",
       "        -1.44205191,  0.20366942],\n",
       "       [-0.35981649, -0.71202571, -0.07505614, ...,  0.80424406,\n",
       "        -1.44205191,  0.10015062],\n",
       "       ...,\n",
       "       [-0.7968903 ,  1.46519069, -0.89907679, ...,  0.80424406,\n",
       "        -1.44205191, -1.31976689],\n",
       "       [-1.01542721,  1.46519069,  0.39581279, ...,  0.80424406,\n",
       "        -0.27055028,  0.38505839],\n",
       "       [-1.12469566, -0.71202571, -0.42820785, ..., -1.24340365,\n",
       "         0.90095135, -0.49531357]])"
      ]
     },
     "execution_count": 58,
     "metadata": {},
     "output_type": "execute_result"
    }
   ],
   "source": [
    "transform_num"
   ]
  },
  {
   "cell_type": "code",
   "execution_count": 59,
   "id": "01a46697",
   "metadata": {},
   "outputs": [],
   "source": [
    "feature_names_num = scaler.get_feature_names_out()"
   ]
  },
  {
   "cell_type": "code",
   "execution_count": 60,
   "id": "ef1417d5",
   "metadata": {},
   "outputs": [
    {
     "data": {
      "text/plain": [
       "array(['Age', 'CityTier', 'DurationOfPitch', 'NumberOfPersonVisiting',\n",
       "       'NumberOfFollowups', 'PreferredPropertyStar', 'NumberOfTrips',\n",
       "       'Passport', 'PitchSatisfactionScore', 'OwnCar',\n",
       "       'NumberOfChildrenVisiting', 'MonthlyIncome'], dtype=object)"
      ]
     },
     "execution_count": 60,
     "metadata": {},
     "output_type": "execute_result"
    }
   ],
   "source": [
    "feature_names_num"
   ]
  },
  {
   "cell_type": "code",
   "execution_count": 61,
   "id": "84102da9",
   "metadata": {},
   "outputs": [],
   "source": [
    "X_test_num_transformed = pd.DataFrame(transform_num , columns = feature_names_num , index = X_test_num.index)"
   ]
  },
  {
   "cell_type": "code",
   "execution_count": 62,
   "id": "7b2d515f",
   "metadata": {},
   "outputs": [
    {
     "data": {
      "text/plain": [
       "(1032, 12)"
      ]
     },
     "execution_count": 62,
     "metadata": {},
     "output_type": "execute_result"
    }
   ],
   "source": [
    "X_test_num_transformed.shape"
   ]
  },
  {
   "cell_type": "code",
   "execution_count": 63,
   "id": "cd85db13",
   "metadata": {},
   "outputs": [
    {
     "data": {
      "text/html": [
       "<div>\n",
       "<style scoped>\n",
       "    .dataframe tbody tr th:only-of-type {\n",
       "        vertical-align: middle;\n",
       "    }\n",
       "\n",
       "    .dataframe tbody tr th {\n",
       "        vertical-align: top;\n",
       "    }\n",
       "\n",
       "    .dataframe thead th {\n",
       "        text-align: right;\n",
       "    }\n",
       "</style>\n",
       "<table border=\"1\" class=\"dataframe\">\n",
       "  <thead>\n",
       "    <tr style=\"text-align: right;\">\n",
       "      <th></th>\n",
       "      <th>Age</th>\n",
       "      <th>CityTier</th>\n",
       "      <th>DurationOfPitch</th>\n",
       "      <th>NumberOfPersonVisiting</th>\n",
       "      <th>NumberOfFollowups</th>\n",
       "      <th>PreferredPropertyStar</th>\n",
       "      <th>NumberOfTrips</th>\n",
       "      <th>Passport</th>\n",
       "      <th>PitchSatisfactionScore</th>\n",
       "      <th>OwnCar</th>\n",
       "      <th>NumberOfChildrenVisiting</th>\n",
       "      <th>MonthlyIncome</th>\n",
       "    </tr>\n",
       "  </thead>\n",
       "  <tbody>\n",
       "    <tr>\n",
       "      <th>1366</th>\n",
       "      <td>0.186526</td>\n",
       "      <td>1.465191</td>\n",
       "      <td>1.337551</td>\n",
       "      <td>-1.315966</td>\n",
       "      <td>1.266081</td>\n",
       "      <td>-0.722335</td>\n",
       "      <td>1.989861</td>\n",
       "      <td>-0.647713</td>\n",
       "      <td>1.430995</td>\n",
       "      <td>-1.243404</td>\n",
       "      <td>-1.442052</td>\n",
       "      <td>-0.566483</td>\n",
       "    </tr>\n",
       "    <tr>\n",
       "      <th>56</th>\n",
       "      <td>-0.250548</td>\n",
       "      <td>1.465191</td>\n",
       "      <td>0.984399</td>\n",
       "      <td>0.067004</td>\n",
       "      <td>-0.754428</td>\n",
       "      <td>1.810336</td>\n",
       "      <td>-0.706248</td>\n",
       "      <td>-0.647713</td>\n",
       "      <td>0.692232</td>\n",
       "      <td>0.804244</td>\n",
       "      <td>-1.442052</td>\n",
       "      <td>0.203669</td>\n",
       "    </tr>\n",
       "    <tr>\n",
       "      <th>1994</th>\n",
       "      <td>-0.359816</td>\n",
       "      <td>-0.712026</td>\n",
       "      <td>-0.075056</td>\n",
       "      <td>-1.315966</td>\n",
       "      <td>0.255827</td>\n",
       "      <td>0.544001</td>\n",
       "      <td>-0.706248</td>\n",
       "      <td>-0.647713</td>\n",
       "      <td>-1.524056</td>\n",
       "      <td>0.804244</td>\n",
       "      <td>-1.442052</td>\n",
       "      <td>0.100151</td>\n",
       "    </tr>\n",
       "    <tr>\n",
       "      <th>1632</th>\n",
       "      <td>-1.015427</td>\n",
       "      <td>-0.712026</td>\n",
       "      <td>1.337551</td>\n",
       "      <td>-1.315966</td>\n",
       "      <td>-0.754428</td>\n",
       "      <td>-0.722335</td>\n",
       "      <td>-0.706248</td>\n",
       "      <td>-0.647713</td>\n",
       "      <td>-1.524056</td>\n",
       "      <td>-1.243404</td>\n",
       "      <td>-1.442052</td>\n",
       "      <td>-1.265004</td>\n",
       "    </tr>\n",
       "    <tr>\n",
       "      <th>3914</th>\n",
       "      <td>0.514331</td>\n",
       "      <td>1.465191</td>\n",
       "      <td>-1.016794</td>\n",
       "      <td>1.449975</td>\n",
       "      <td>0.255827</td>\n",
       "      <td>-0.722335</td>\n",
       "      <td>-0.706248</td>\n",
       "      <td>1.543893</td>\n",
       "      <td>0.692232</td>\n",
       "      <td>-1.243404</td>\n",
       "      <td>2.072453</td>\n",
       "      <td>0.342773</td>\n",
       "    </tr>\n",
       "  </tbody>\n",
       "</table>\n",
       "</div>"
      ],
      "text/plain": [
       "           Age  CityTier  DurationOfPitch  NumberOfPersonVisiting  \\\n",
       "1366  0.186526  1.465191         1.337551               -1.315966   \n",
       "56   -0.250548  1.465191         0.984399                0.067004   \n",
       "1994 -0.359816 -0.712026        -0.075056               -1.315966   \n",
       "1632 -1.015427 -0.712026         1.337551               -1.315966   \n",
       "3914  0.514331  1.465191        -1.016794                1.449975   \n",
       "\n",
       "      NumberOfFollowups  PreferredPropertyStar  NumberOfTrips  Passport  \\\n",
       "1366           1.266081              -0.722335       1.989861 -0.647713   \n",
       "56            -0.754428               1.810336      -0.706248 -0.647713   \n",
       "1994           0.255827               0.544001      -0.706248 -0.647713   \n",
       "1632          -0.754428              -0.722335      -0.706248 -0.647713   \n",
       "3914           0.255827              -0.722335      -0.706248  1.543893   \n",
       "\n",
       "      PitchSatisfactionScore    OwnCar  NumberOfChildrenVisiting  \\\n",
       "1366                1.430995 -1.243404                 -1.442052   \n",
       "56                  0.692232  0.804244                 -1.442052   \n",
       "1994               -1.524056  0.804244                 -1.442052   \n",
       "1632               -1.524056 -1.243404                 -1.442052   \n",
       "3914                0.692232 -1.243404                  2.072453   \n",
       "\n",
       "      MonthlyIncome  \n",
       "1366      -0.566483  \n",
       "56         0.203669  \n",
       "1994       0.100151  \n",
       "1632      -1.265004  \n",
       "3914       0.342773  "
      ]
     },
     "execution_count": 63,
     "metadata": {},
     "output_type": "execute_result"
    }
   ],
   "source": [
    "X_test_num_transformed.head()"
   ]
  },
  {
   "cell_type": "markdown",
   "id": "0552d883",
   "metadata": {},
   "source": [
    "### Data Preprocessing for Categorical data #16  (X_test)"
   ]
  },
  {
   "cell_type": "code",
   "execution_count": 64,
   "id": "20ea150b",
   "metadata": {},
   "outputs": [],
   "source": [
    "transform_cat = encoder_.transform(X_test_cat)"
   ]
  },
  {
   "cell_type": "code",
   "execution_count": 65,
   "id": "421bc2bf",
   "metadata": {},
   "outputs": [],
   "source": [
    "feature_names_cat = encoder_.get_feature_names_out()"
   ]
  },
  {
   "cell_type": "code",
   "execution_count": 66,
   "id": "e7cbeade",
   "metadata": {},
   "outputs": [
    {
     "data": {
      "text/plain": [
       "array(['TypeofContact_Self Enquiry', 'Occupation_Large Business',\n",
       "       'Occupation_Salaried', 'Occupation_Small Business',\n",
       "       'Gender_Female', 'Gender_Male', 'ProductPitched_Deluxe',\n",
       "       'ProductPitched_King', 'ProductPitched_Standard',\n",
       "       'ProductPitched_Super Deluxe', 'MaritalStatus_Married',\n",
       "       'MaritalStatus_Single', 'MaritalStatus_Unmarried',\n",
       "       'Designation_Executive', 'Designation_Manager',\n",
       "       'Designation_Senior Manager', 'Designation_VP'], dtype=object)"
      ]
     },
     "execution_count": 66,
     "metadata": {},
     "output_type": "execute_result"
    }
   ],
   "source": [
    "feature_names_cat"
   ]
  },
  {
   "cell_type": "code",
   "execution_count": 67,
   "id": "86da60bb",
   "metadata": {},
   "outputs": [],
   "source": [
    "X_test_cat_transformed = pd.DataFrame(transform_cat , columns = feature_names_cat , index = X_test_cat.index)"
   ]
  },
  {
   "cell_type": "code",
   "execution_count": 68,
   "id": "92c22e20",
   "metadata": {},
   "outputs": [
    {
     "data": {
      "text/html": [
       "<div>\n",
       "<style scoped>\n",
       "    .dataframe tbody tr th:only-of-type {\n",
       "        vertical-align: middle;\n",
       "    }\n",
       "\n",
       "    .dataframe tbody tr th {\n",
       "        vertical-align: top;\n",
       "    }\n",
       "\n",
       "    .dataframe thead th {\n",
       "        text-align: right;\n",
       "    }\n",
       "</style>\n",
       "<table border=\"1\" class=\"dataframe\">\n",
       "  <thead>\n",
       "    <tr style=\"text-align: right;\">\n",
       "      <th></th>\n",
       "      <th>Age</th>\n",
       "      <th>CityTier</th>\n",
       "      <th>DurationOfPitch</th>\n",
       "      <th>NumberOfPersonVisiting</th>\n",
       "      <th>NumberOfFollowups</th>\n",
       "      <th>PreferredPropertyStar</th>\n",
       "      <th>NumberOfTrips</th>\n",
       "      <th>Passport</th>\n",
       "      <th>PitchSatisfactionScore</th>\n",
       "      <th>OwnCar</th>\n",
       "      <th>...</th>\n",
       "      <th>ProductPitched_King</th>\n",
       "      <th>ProductPitched_Standard</th>\n",
       "      <th>ProductPitched_Super Deluxe</th>\n",
       "      <th>MaritalStatus_Married</th>\n",
       "      <th>MaritalStatus_Single</th>\n",
       "      <th>MaritalStatus_Unmarried</th>\n",
       "      <th>Designation_Executive</th>\n",
       "      <th>Designation_Manager</th>\n",
       "      <th>Designation_Senior Manager</th>\n",
       "      <th>Designation_VP</th>\n",
       "    </tr>\n",
       "  </thead>\n",
       "  <tbody>\n",
       "    <tr>\n",
       "      <th>1366</th>\n",
       "      <td>0.186526</td>\n",
       "      <td>1.465191</td>\n",
       "      <td>1.337551</td>\n",
       "      <td>-1.315966</td>\n",
       "      <td>1.266081</td>\n",
       "      <td>-0.722335</td>\n",
       "      <td>1.989861</td>\n",
       "      <td>-0.647713</td>\n",
       "      <td>1.430995</td>\n",
       "      <td>-1.243404</td>\n",
       "      <td>...</td>\n",
       "      <td>0.0</td>\n",
       "      <td>0.0</td>\n",
       "      <td>0.0</td>\n",
       "      <td>1.0</td>\n",
       "      <td>0.0</td>\n",
       "      <td>0.0</td>\n",
       "      <td>0.0</td>\n",
       "      <td>1.0</td>\n",
       "      <td>0.0</td>\n",
       "      <td>0.0</td>\n",
       "    </tr>\n",
       "    <tr>\n",
       "      <th>56</th>\n",
       "      <td>-0.250548</td>\n",
       "      <td>1.465191</td>\n",
       "      <td>0.984399</td>\n",
       "      <td>0.067004</td>\n",
       "      <td>-0.754428</td>\n",
       "      <td>1.810336</td>\n",
       "      <td>-0.706248</td>\n",
       "      <td>-0.647713</td>\n",
       "      <td>0.692232</td>\n",
       "      <td>0.804244</td>\n",
       "      <td>...</td>\n",
       "      <td>0.0</td>\n",
       "      <td>1.0</td>\n",
       "      <td>0.0</td>\n",
       "      <td>0.0</td>\n",
       "      <td>0.0</td>\n",
       "      <td>0.0</td>\n",
       "      <td>0.0</td>\n",
       "      <td>0.0</td>\n",
       "      <td>1.0</td>\n",
       "      <td>0.0</td>\n",
       "    </tr>\n",
       "    <tr>\n",
       "      <th>1994</th>\n",
       "      <td>-0.359816</td>\n",
       "      <td>-0.712026</td>\n",
       "      <td>-0.075056</td>\n",
       "      <td>-1.315966</td>\n",
       "      <td>0.255827</td>\n",
       "      <td>0.544001</td>\n",
       "      <td>-0.706248</td>\n",
       "      <td>-0.647713</td>\n",
       "      <td>-1.524056</td>\n",
       "      <td>0.804244</td>\n",
       "      <td>...</td>\n",
       "      <td>0.0</td>\n",
       "      <td>1.0</td>\n",
       "      <td>0.0</td>\n",
       "      <td>0.0</td>\n",
       "      <td>0.0</td>\n",
       "      <td>1.0</td>\n",
       "      <td>0.0</td>\n",
       "      <td>0.0</td>\n",
       "      <td>1.0</td>\n",
       "      <td>0.0</td>\n",
       "    </tr>\n",
       "    <tr>\n",
       "      <th>1632</th>\n",
       "      <td>-1.015427</td>\n",
       "      <td>-0.712026</td>\n",
       "      <td>1.337551</td>\n",
       "      <td>-1.315966</td>\n",
       "      <td>-0.754428</td>\n",
       "      <td>-0.722335</td>\n",
       "      <td>-0.706248</td>\n",
       "      <td>-0.647713</td>\n",
       "      <td>-1.524056</td>\n",
       "      <td>-1.243404</td>\n",
       "      <td>...</td>\n",
       "      <td>0.0</td>\n",
       "      <td>0.0</td>\n",
       "      <td>0.0</td>\n",
       "      <td>1.0</td>\n",
       "      <td>0.0</td>\n",
       "      <td>0.0</td>\n",
       "      <td>1.0</td>\n",
       "      <td>0.0</td>\n",
       "      <td>0.0</td>\n",
       "      <td>0.0</td>\n",
       "    </tr>\n",
       "    <tr>\n",
       "      <th>3914</th>\n",
       "      <td>0.514331</td>\n",
       "      <td>1.465191</td>\n",
       "      <td>-1.016794</td>\n",
       "      <td>1.449975</td>\n",
       "      <td>0.255827</td>\n",
       "      <td>-0.722335</td>\n",
       "      <td>-0.706248</td>\n",
       "      <td>1.543893</td>\n",
       "      <td>0.692232</td>\n",
       "      <td>-1.243404</td>\n",
       "      <td>...</td>\n",
       "      <td>0.0</td>\n",
       "      <td>0.0</td>\n",
       "      <td>0.0</td>\n",
       "      <td>0.0</td>\n",
       "      <td>0.0</td>\n",
       "      <td>1.0</td>\n",
       "      <td>0.0</td>\n",
       "      <td>1.0</td>\n",
       "      <td>0.0</td>\n",
       "      <td>0.0</td>\n",
       "    </tr>\n",
       "  </tbody>\n",
       "</table>\n",
       "<p>5 rows × 29 columns</p>\n",
       "</div>"
      ],
      "text/plain": [
       "           Age  CityTier  DurationOfPitch  NumberOfPersonVisiting  \\\n",
       "1366  0.186526  1.465191         1.337551               -1.315966   \n",
       "56   -0.250548  1.465191         0.984399                0.067004   \n",
       "1994 -0.359816 -0.712026        -0.075056               -1.315966   \n",
       "1632 -1.015427 -0.712026         1.337551               -1.315966   \n",
       "3914  0.514331  1.465191        -1.016794                1.449975   \n",
       "\n",
       "      NumberOfFollowups  PreferredPropertyStar  NumberOfTrips  Passport  \\\n",
       "1366           1.266081              -0.722335       1.989861 -0.647713   \n",
       "56            -0.754428               1.810336      -0.706248 -0.647713   \n",
       "1994           0.255827               0.544001      -0.706248 -0.647713   \n",
       "1632          -0.754428              -0.722335      -0.706248 -0.647713   \n",
       "3914           0.255827              -0.722335      -0.706248  1.543893   \n",
       "\n",
       "      PitchSatisfactionScore    OwnCar  ...  ProductPitched_King  \\\n",
       "1366                1.430995 -1.243404  ...                  0.0   \n",
       "56                  0.692232  0.804244  ...                  0.0   \n",
       "1994               -1.524056  0.804244  ...                  0.0   \n",
       "1632               -1.524056 -1.243404  ...                  0.0   \n",
       "3914                0.692232 -1.243404  ...                  0.0   \n",
       "\n",
       "      ProductPitched_Standard  ProductPitched_Super Deluxe  \\\n",
       "1366                      0.0                          0.0   \n",
       "56                        1.0                          0.0   \n",
       "1994                      1.0                          0.0   \n",
       "1632                      0.0                          0.0   \n",
       "3914                      0.0                          0.0   \n",
       "\n",
       "      MaritalStatus_Married  MaritalStatus_Single  MaritalStatus_Unmarried  \\\n",
       "1366                    1.0                   0.0                      0.0   \n",
       "56                      0.0                   0.0                      0.0   \n",
       "1994                    0.0                   0.0                      1.0   \n",
       "1632                    1.0                   0.0                      0.0   \n",
       "3914                    0.0                   0.0                      1.0   \n",
       "\n",
       "      Designation_Executive  Designation_Manager  Designation_Senior Manager  \\\n",
       "1366                    0.0                  1.0                         0.0   \n",
       "56                      0.0                  0.0                         1.0   \n",
       "1994                    0.0                  0.0                         1.0   \n",
       "1632                    1.0                  0.0                         0.0   \n",
       "3914                    0.0                  1.0                         0.0   \n",
       "\n",
       "      Designation_VP  \n",
       "1366             0.0  \n",
       "56               0.0  \n",
       "1994             0.0  \n",
       "1632             0.0  \n",
       "3914             0.0  \n",
       "\n",
       "[5 rows x 29 columns]"
      ]
     },
     "execution_count": 68,
     "metadata": {},
     "output_type": "execute_result"
    }
   ],
   "source": [
    "X_test_transformed = pd.concat([X_test_num_transformed, X_test_cat_transformed], axis=1)\n",
    "\n",
    "X_test_transformed.head()"
   ]
  },
  {
   "cell_type": "code",
   "execution_count": 69,
   "id": "3407c346",
   "metadata": {},
   "outputs": [
    {
     "data": {
      "text/plain": [
       "(1032, 29)"
      ]
     },
     "execution_count": 69,
     "metadata": {},
     "output_type": "execute_result"
    }
   ],
   "source": [
    "X_test_transformed.shape"
   ]
  },
  {
   "cell_type": "markdown",
   "id": "ab60967e",
   "metadata": {},
   "source": [
    "### Step - Model Building"
   ]
  },
  {
   "cell_type": "markdown",
   "id": "2fab5dcc",
   "metadata": {},
   "source": [
    "### knn"
   ]
  },
  {
   "cell_type": "code",
   "execution_count": 70,
   "id": "051b3823",
   "metadata": {},
   "outputs": [],
   "source": [
    "from sklearn.neighbors import KNeighborsClassifier"
   ]
  },
  {
   "cell_type": "code",
   "execution_count": 71,
   "id": "4363fac3",
   "metadata": {},
   "outputs": [],
   "source": [
    "from sklearn import metrics"
   ]
  },
  {
   "cell_type": "code",
   "execution_count": 72,
   "id": "17f47f94",
   "metadata": {},
   "outputs": [],
   "source": [
    "knn = KNeighborsClassifier(n_neighbors=1)"
   ]
  },
  {
   "cell_type": "code",
   "execution_count": 73,
   "id": "a7b170a5",
   "metadata": {},
   "outputs": [
    {
     "data": {
      "text/html": [
       "<style>#sk-container-id-1 {color: black;}#sk-container-id-1 pre{padding: 0;}#sk-container-id-1 div.sk-toggleable {background-color: white;}#sk-container-id-1 label.sk-toggleable__label {cursor: pointer;display: block;width: 100%;margin-bottom: 0;padding: 0.3em;box-sizing: border-box;text-align: center;}#sk-container-id-1 label.sk-toggleable__label-arrow:before {content: \"▸\";float: left;margin-right: 0.25em;color: #696969;}#sk-container-id-1 label.sk-toggleable__label-arrow:hover:before {color: black;}#sk-container-id-1 div.sk-estimator:hover label.sk-toggleable__label-arrow:before {color: black;}#sk-container-id-1 div.sk-toggleable__content {max-height: 0;max-width: 0;overflow: hidden;text-align: left;background-color: #f0f8ff;}#sk-container-id-1 div.sk-toggleable__content pre {margin: 0.2em;color: black;border-radius: 0.25em;background-color: #f0f8ff;}#sk-container-id-1 input.sk-toggleable__control:checked~div.sk-toggleable__content {max-height: 200px;max-width: 100%;overflow: auto;}#sk-container-id-1 input.sk-toggleable__control:checked~label.sk-toggleable__label-arrow:before {content: \"▾\";}#sk-container-id-1 div.sk-estimator input.sk-toggleable__control:checked~label.sk-toggleable__label {background-color: #d4ebff;}#sk-container-id-1 div.sk-label input.sk-toggleable__control:checked~label.sk-toggleable__label {background-color: #d4ebff;}#sk-container-id-1 input.sk-hidden--visually {border: 0;clip: rect(1px 1px 1px 1px);clip: rect(1px, 1px, 1px, 1px);height: 1px;margin: -1px;overflow: hidden;padding: 0;position: absolute;width: 1px;}#sk-container-id-1 div.sk-estimator {font-family: monospace;background-color: #f0f8ff;border: 1px dotted black;border-radius: 0.25em;box-sizing: border-box;margin-bottom: 0.5em;}#sk-container-id-1 div.sk-estimator:hover {background-color: #d4ebff;}#sk-container-id-1 div.sk-parallel-item::after {content: \"\";width: 100%;border-bottom: 1px solid gray;flex-grow: 1;}#sk-container-id-1 div.sk-label:hover label.sk-toggleable__label {background-color: #d4ebff;}#sk-container-id-1 div.sk-serial::before {content: \"\";position: absolute;border-left: 1px solid gray;box-sizing: border-box;top: 0;bottom: 0;left: 50%;z-index: 0;}#sk-container-id-1 div.sk-serial {display: flex;flex-direction: column;align-items: center;background-color: white;padding-right: 0.2em;padding-left: 0.2em;position: relative;}#sk-container-id-1 div.sk-item {position: relative;z-index: 1;}#sk-container-id-1 div.sk-parallel {display: flex;align-items: stretch;justify-content: center;background-color: white;position: relative;}#sk-container-id-1 div.sk-item::before, #sk-container-id-1 div.sk-parallel-item::before {content: \"\";position: absolute;border-left: 1px solid gray;box-sizing: border-box;top: 0;bottom: 0;left: 50%;z-index: -1;}#sk-container-id-1 div.sk-parallel-item {display: flex;flex-direction: column;z-index: 1;position: relative;background-color: white;}#sk-container-id-1 div.sk-parallel-item:first-child::after {align-self: flex-end;width: 50%;}#sk-container-id-1 div.sk-parallel-item:last-child::after {align-self: flex-start;width: 50%;}#sk-container-id-1 div.sk-parallel-item:only-child::after {width: 0;}#sk-container-id-1 div.sk-dashed-wrapped {border: 1px dashed gray;margin: 0 0.4em 0.5em 0.4em;box-sizing: border-box;padding-bottom: 0.4em;background-color: white;}#sk-container-id-1 div.sk-label label {font-family: monospace;font-weight: bold;display: inline-block;line-height: 1.2em;}#sk-container-id-1 div.sk-label-container {text-align: center;}#sk-container-id-1 div.sk-container {/* jupyter's `normalize.less` sets `[hidden] { display: none; }` but bootstrap.min.css set `[hidden] { display: none !important; }` so we also need the `!important` here to be able to override the default hidden behavior on the sphinx rendered scikit-learn.org. See: https://github.com/scikit-learn/scikit-learn/issues/21755 */display: inline-block !important;position: relative;}#sk-container-id-1 div.sk-text-repr-fallback {display: none;}</style><div id=\"sk-container-id-1\" class=\"sk-top-container\"><div class=\"sk-text-repr-fallback\"><pre>KNeighborsClassifier(n_neighbors=1)</pre><b>In a Jupyter environment, please rerun this cell to show the HTML representation or trust the notebook. <br />On GitHub, the HTML representation is unable to render, please try loading this page with nbviewer.org.</b></div><div class=\"sk-container\" hidden><div class=\"sk-item\"><div class=\"sk-estimator sk-toggleable\"><input class=\"sk-toggleable__control sk-hidden--visually\" id=\"sk-estimator-id-1\" type=\"checkbox\" checked><label for=\"sk-estimator-id-1\" class=\"sk-toggleable__label sk-toggleable__label-arrow\">KNeighborsClassifier</label><div class=\"sk-toggleable__content\"><pre>KNeighborsClassifier(n_neighbors=1)</pre></div></div></div></div></div>"
      ],
      "text/plain": [
       "KNeighborsClassifier(n_neighbors=1)"
      ]
     },
     "execution_count": 73,
     "metadata": {},
     "output_type": "execute_result"
    }
   ],
   "source": [
    "knn.fit(X_train_transformed, y_train)"
   ]
  },
  {
   "cell_type": "code",
   "execution_count": 74,
   "id": "7164bdf8",
   "metadata": {},
   "outputs": [],
   "source": [
    "y_test_pred = knn.predict(X_test_transformed)"
   ]
  },
  {
   "cell_type": "code",
   "execution_count": 75,
   "id": "3d4454c9",
   "metadata": {},
   "outputs": [
    {
     "data": {
      "text/plain": [
       "0.9147286821705426"
      ]
     },
     "execution_count": 75,
     "metadata": {},
     "output_type": "execute_result"
    }
   ],
   "source": [
    "metrics.accuracy_score(y_test , y_test_pred)"
   ]
  },
  {
   "cell_type": "code",
   "execution_count": 76,
   "id": "98139efd",
   "metadata": {},
   "outputs": [],
   "source": [
    "output_df = pd.DataFrame({'Actual': y_test})"
   ]
  },
  {
   "cell_type": "code",
   "execution_count": 77,
   "id": "f6f34a99",
   "metadata": {},
   "outputs": [
    {
     "data": {
      "text/html": [
       "<div>\n",
       "<style scoped>\n",
       "    .dataframe tbody tr th:only-of-type {\n",
       "        vertical-align: middle;\n",
       "    }\n",
       "\n",
       "    .dataframe tbody tr th {\n",
       "        vertical-align: top;\n",
       "    }\n",
       "\n",
       "    .dataframe thead th {\n",
       "        text-align: right;\n",
       "    }\n",
       "</style>\n",
       "<table border=\"1\" class=\"dataframe\">\n",
       "  <thead>\n",
       "    <tr style=\"text-align: right;\">\n",
       "      <th></th>\n",
       "      <th>Actual</th>\n",
       "      <th>KNN Regression Predictions</th>\n",
       "    </tr>\n",
       "  </thead>\n",
       "  <tbody>\n",
       "    <tr>\n",
       "      <th>1366</th>\n",
       "      <td>0</td>\n",
       "      <td>0</td>\n",
       "    </tr>\n",
       "    <tr>\n",
       "      <th>56</th>\n",
       "      <td>0</td>\n",
       "      <td>0</td>\n",
       "    </tr>\n",
       "    <tr>\n",
       "      <th>1994</th>\n",
       "      <td>0</td>\n",
       "      <td>0</td>\n",
       "    </tr>\n",
       "    <tr>\n",
       "      <th>1632</th>\n",
       "      <td>0</td>\n",
       "      <td>0</td>\n",
       "    </tr>\n",
       "    <tr>\n",
       "      <th>3914</th>\n",
       "      <td>1</td>\n",
       "      <td>0</td>\n",
       "    </tr>\n",
       "    <tr>\n",
       "      <th>...</th>\n",
       "      <td>...</td>\n",
       "      <td>...</td>\n",
       "    </tr>\n",
       "    <tr>\n",
       "      <th>914</th>\n",
       "      <td>0</td>\n",
       "      <td>0</td>\n",
       "    </tr>\n",
       "    <tr>\n",
       "      <th>4476</th>\n",
       "      <td>1</td>\n",
       "      <td>1</td>\n",
       "    </tr>\n",
       "    <tr>\n",
       "      <th>1851</th>\n",
       "      <td>0</td>\n",
       "      <td>0</td>\n",
       "    </tr>\n",
       "    <tr>\n",
       "      <th>1369</th>\n",
       "      <td>1</td>\n",
       "      <td>1</td>\n",
       "    </tr>\n",
       "    <tr>\n",
       "      <th>3058</th>\n",
       "      <td>1</td>\n",
       "      <td>1</td>\n",
       "    </tr>\n",
       "  </tbody>\n",
       "</table>\n",
       "<p>1032 rows × 2 columns</p>\n",
       "</div>"
      ],
      "text/plain": [
       "      Actual  KNN Regression Predictions\n",
       "1366       0                           0\n",
       "56         0                           0\n",
       "1994       0                           0\n",
       "1632       0                           0\n",
       "3914       1                           0\n",
       "...      ...                         ...\n",
       "914        0                           0\n",
       "4476       1                           1\n",
       "1851       0                           0\n",
       "1369       1                           1\n",
       "3058       1                           1\n",
       "\n",
       "[1032 rows x 2 columns]"
      ]
     },
     "execution_count": 77,
     "metadata": {},
     "output_type": "execute_result"
    }
   ],
   "source": [
    "output_df['KNN Regression Predictions'] = y_test_pred\n",
    "\n",
    "output_df"
   ]
  },
  {
   "cell_type": "code",
   "execution_count": 78,
   "id": "ccfb2042",
   "metadata": {},
   "outputs": [
    {
     "data": {
      "text/plain": [
       "<matplotlib.legend.Legend at 0x1d87af113c0>"
      ]
     },
     "execution_count": 78,
     "metadata": {},
     "output_type": "execute_result"
    },
    {
     "data": {
      "image/png": "[encoded data removed]",
      "text/plain": [
       "<Figure size 800x300 with 1 Axes>"
      ]
     },
     "metadata": {},
     "output_type": "display_data"
    }
   ],
   "source": [
    "fig, ax = plt.subplots(figsize=(8,3))\n",
    "\n",
    "sns.histplot(output_df['Actual'], color='blue', alpha=0.5, label=\"actual\")\n",
    "sns.histplot(output_df['KNN Regression Predictions'], color='red', alpha=0.5, label=\"prediction\")\n",
    "\n",
    "plt.legend()"
   ]
  },
  {
   "cell_type": "markdown",
   "id": "b8f5120a",
   "metadata": {},
   "source": [
    "### Logistic regression"
   ]
  },
  {
   "cell_type": "code",
   "execution_count": 79,
   "id": "b93a8564",
   "metadata": {},
   "outputs": [],
   "source": [
    "from sklearn.linear_model import LogisticRegression"
   ]
  },
  {
   "cell_type": "code",
   "execution_count": 80,
   "id": "ab580d5f",
   "metadata": {},
   "outputs": [],
   "source": [
    "logistic = LogisticRegression()"
   ]
  },
  {
   "cell_type": "code",
   "execution_count": 81,
   "id": "474a788b",
   "metadata": {},
   "outputs": [
    {
     "data": {
      "text/html": [
       "<style>#sk-container-id-2 {color: black;}#sk-container-id-2 pre{padding: 0;}#sk-container-id-2 div.sk-toggleable {background-color: white;}#sk-container-id-2 label.sk-toggleable__label {cursor: pointer;display: block;width: 100%;margin-bottom: 0;padding: 0.3em;box-sizing: border-box;text-align: center;}#sk-container-id-2 label.sk-toggleable__label-arrow:before {content: \"▸\";float: left;margin-right: 0.25em;color: #696969;}#sk-container-id-2 label.sk-toggleable__label-arrow:hover:before {color: black;}#sk-container-id-2 div.sk-estimator:hover label.sk-toggleable__label-arrow:before {color: black;}#sk-container-id-2 div.sk-toggleable__content {max-height: 0;max-width: 0;overflow: hidden;text-align: left;background-color: #f0f8ff;}#sk-container-id-2 div.sk-toggleable__content pre {margin: 0.2em;color: black;border-radius: 0.25em;background-color: #f0f8ff;}#sk-container-id-2 input.sk-toggleable__control:checked~div.sk-toggleable__content {max-height: 200px;max-width: 100%;overflow: auto;}#sk-container-id-2 input.sk-toggleable__control:checked~label.sk-toggleable__label-arrow:before {content: \"▾\";}#sk-container-id-2 div.sk-estimator input.sk-toggleable__control:checked~label.sk-toggleable__label {background-color: #d4ebff;}#sk-container-id-2 div.sk-label input.sk-toggleable__control:checked~label.sk-toggleable__label {background-color: #d4ebff;}#sk-container-id-2 input.sk-hidden--visually {border: 0;clip: rect(1px 1px 1px 1px);clip: rect(1px, 1px, 1px, 1px);height: 1px;margin: -1px;overflow: hidden;padding: 0;position: absolute;width: 1px;}#sk-container-id-2 div.sk-estimator {font-family: monospace;background-color: #f0f8ff;border: 1px dotted black;border-radius: 0.25em;box-sizing: border-box;margin-bottom: 0.5em;}#sk-container-id-2 div.sk-estimator:hover {background-color: #d4ebff;}#sk-container-id-2 div.sk-parallel-item::after {content: \"\";width: 100%;border-bottom: 1px solid gray;flex-grow: 1;}#sk-container-id-2 div.sk-label:hover label.sk-toggleable__label {background-color: #d4ebff;}#sk-container-id-2 div.sk-serial::before {content: \"\";position: absolute;border-left: 1px solid gray;box-sizing: border-box;top: 0;bottom: 0;left: 50%;z-index: 0;}#sk-container-id-2 div.sk-serial {display: flex;flex-direction: column;align-items: center;background-color: white;padding-right: 0.2em;padding-left: 0.2em;position: relative;}#sk-container-id-2 div.sk-item {position: relative;z-index: 1;}#sk-container-id-2 div.sk-parallel {display: flex;align-items: stretch;justify-content: center;background-color: white;position: relative;}#sk-container-id-2 div.sk-item::before, #sk-container-id-2 div.sk-parallel-item::before {content: \"\";position: absolute;border-left: 1px solid gray;box-sizing: border-box;top: 0;bottom: 0;left: 50%;z-index: -1;}#sk-container-id-2 div.sk-parallel-item {display: flex;flex-direction: column;z-index: 1;position: relative;background-color: white;}#sk-container-id-2 div.sk-parallel-item:first-child::after {align-self: flex-end;width: 50%;}#sk-container-id-2 div.sk-parallel-item:last-child::after {align-self: flex-start;width: 50%;}#sk-container-id-2 div.sk-parallel-item:only-child::after {width: 0;}#sk-container-id-2 div.sk-dashed-wrapped {border: 1px dashed gray;margin: 0 0.4em 0.5em 0.4em;box-sizing: border-box;padding-bottom: 0.4em;background-color: white;}#sk-container-id-2 div.sk-label label {font-family: monospace;font-weight: bold;display: inline-block;line-height: 1.2em;}#sk-container-id-2 div.sk-label-container {text-align: center;}#sk-container-id-2 div.sk-container {/* jupyter's `normalize.less` sets `[hidden] { display: none; }` but bootstrap.min.css set `[hidden] { display: none !important; }` so we also need the `!important` here to be able to override the default hidden behavior on the sphinx rendered scikit-learn.org. See: https://github.com/scikit-learn/scikit-learn/issues/21755 */display: inline-block !important;position: relative;}#sk-container-id-2 div.sk-text-repr-fallback {display: none;}</style><div id=\"sk-container-id-2\" class=\"sk-top-container\"><div class=\"sk-text-repr-fallback\"><pre>LogisticRegression()</pre><b>In a Jupyter environment, please rerun this cell to show the HTML representation or trust the notebook. <br />On GitHub, the HTML representation is unable to render, please try loading this page with nbviewer.org.</b></div><div class=\"sk-container\" hidden><div class=\"sk-item\"><div class=\"sk-estimator sk-toggleable\"><input class=\"sk-toggleable__control sk-hidden--visually\" id=\"sk-estimator-id-2\" type=\"checkbox\" checked><label for=\"sk-estimator-id-2\" class=\"sk-toggleable__label sk-toggleable__label-arrow\">LogisticRegression</label><div class=\"sk-toggleable__content\"><pre>LogisticRegression()</pre></div></div></div></div></div>"
      ],
      "text/plain": [
       "LogisticRegression()"
      ]
     },
     "execution_count": 81,
     "metadata": {},
     "output_type": "execute_result"
    }
   ],
   "source": [
    "logistic.fit(X_train_transformed, y_train)"
   ]
  },
  {
   "cell_type": "code",
   "execution_count": 82,
   "id": "50b6d9ea",
   "metadata": {},
   "outputs": [],
   "source": [
    "y_test_pred = logistic.predict(X_test_transformed)"
   ]
  },
  {
   "cell_type": "code",
   "execution_count": 83,
   "id": "e90152f6",
   "metadata": {},
   "outputs": [
    {
     "data": {
      "text/plain": [
       "0.8246124031007752"
      ]
     },
     "execution_count": 83,
     "metadata": {},
     "output_type": "execute_result"
    }
   ],
   "source": [
    "metrics.accuracy_score(y_test , y_test_pred)"
   ]
  },
  {
   "cell_type": "code",
   "execution_count": 84,
   "id": "e1487425",
   "metadata": {},
   "outputs": [
    {
     "data": {
      "text/html": [
       "<div>\n",
       "<style scoped>\n",
       "    .dataframe tbody tr th:only-of-type {\n",
       "        vertical-align: middle;\n",
       "    }\n",
       "\n",
       "    .dataframe tbody tr th {\n",
       "        vertical-align: top;\n",
       "    }\n",
       "\n",
       "    .dataframe thead th {\n",
       "        text-align: right;\n",
       "    }\n",
       "</style>\n",
       "<table border=\"1\" class=\"dataframe\">\n",
       "  <thead>\n",
       "    <tr style=\"text-align: right;\">\n",
       "      <th></th>\n",
       "      <th>Actual</th>\n",
       "      <th>KNN Regression Predictions</th>\n",
       "      <th>Logistic Regression Predictions</th>\n",
       "    </tr>\n",
       "  </thead>\n",
       "  <tbody>\n",
       "    <tr>\n",
       "      <th>1366</th>\n",
       "      <td>0</td>\n",
       "      <td>0</td>\n",
       "      <td>0</td>\n",
       "    </tr>\n",
       "    <tr>\n",
       "      <th>56</th>\n",
       "      <td>0</td>\n",
       "      <td>0</td>\n",
       "      <td>0</td>\n",
       "    </tr>\n",
       "    <tr>\n",
       "      <th>1994</th>\n",
       "      <td>0</td>\n",
       "      <td>0</td>\n",
       "      <td>0</td>\n",
       "    </tr>\n",
       "    <tr>\n",
       "      <th>1632</th>\n",
       "      <td>0</td>\n",
       "      <td>0</td>\n",
       "      <td>0</td>\n",
       "    </tr>\n",
       "    <tr>\n",
       "      <th>3914</th>\n",
       "      <td>1</td>\n",
       "      <td>0</td>\n",
       "      <td>0</td>\n",
       "    </tr>\n",
       "    <tr>\n",
       "      <th>...</th>\n",
       "      <td>...</td>\n",
       "      <td>...</td>\n",
       "      <td>...</td>\n",
       "    </tr>\n",
       "    <tr>\n",
       "      <th>914</th>\n",
       "      <td>0</td>\n",
       "      <td>0</td>\n",
       "      <td>0</td>\n",
       "    </tr>\n",
       "    <tr>\n",
       "      <th>4476</th>\n",
       "      <td>1</td>\n",
       "      <td>1</td>\n",
       "      <td>0</td>\n",
       "    </tr>\n",
       "    <tr>\n",
       "      <th>1851</th>\n",
       "      <td>0</td>\n",
       "      <td>0</td>\n",
       "      <td>0</td>\n",
       "    </tr>\n",
       "    <tr>\n",
       "      <th>1369</th>\n",
       "      <td>1</td>\n",
       "      <td>1</td>\n",
       "      <td>0</td>\n",
       "    </tr>\n",
       "    <tr>\n",
       "      <th>3058</th>\n",
       "      <td>1</td>\n",
       "      <td>1</td>\n",
       "      <td>0</td>\n",
       "    </tr>\n",
       "  </tbody>\n",
       "</table>\n",
       "<p>1032 rows × 3 columns</p>\n",
       "</div>"
      ],
      "text/plain": [
       "      Actual  KNN Regression Predictions  Logistic Regression Predictions\n",
       "1366       0                           0                                0\n",
       "56         0                           0                                0\n",
       "1994       0                           0                                0\n",
       "1632       0                           0                                0\n",
       "3914       1                           0                                0\n",
       "...      ...                         ...                              ...\n",
       "914        0                           0                                0\n",
       "4476       1                           1                                0\n",
       "1851       0                           0                                0\n",
       "1369       1                           1                                0\n",
       "3058       1                           1                                0\n",
       "\n",
       "[1032 rows x 3 columns]"
      ]
     },
     "execution_count": 84,
     "metadata": {},
     "output_type": "execute_result"
    }
   ],
   "source": [
    "output_df['Logistic Regression Predictions'] = y_test_pred\n",
    "\n",
    "output_df"
   ]
  },
  {
   "cell_type": "code",
   "execution_count": 85,
   "id": "eef03de6",
   "metadata": {},
   "outputs": [
    {
     "data": {
      "text/plain": [
       "<matplotlib.legend.Legend at 0x1d87b03c760>"
      ]
     },
     "execution_count": 85,
     "metadata": {},
     "output_type": "execute_result"
    },
    {
     "data": {
      "image/png": "[encoded data removed]",
      "text/plain": [
       "<Figure size 800x300 with 1 Axes>"
      ]
     },
     "metadata": {},
     "output_type": "display_data"
    }
   ],
   "source": [
    "fig, ax = plt.subplots(figsize=(8,3))\n",
    "\n",
    "sns.histplot(output_df['Actual'], color='blue', alpha=0.5, label=\"actual\")\n",
    "sns.histplot(output_df['Logistic Regression Predictions'], color='red', alpha=0.5, label=\"prediction\")\n",
    "\n",
    "plt.legend()"
   ]
  },
  {
   "cell_type": "markdown",
   "id": "9da3d9ed",
   "metadata": {},
   "source": [
    "### Decision Tree"
   ]
  },
  {
   "cell_type": "code",
   "execution_count": 86,
   "id": "db99d7ea",
   "metadata": {},
   "outputs": [],
   "source": [
    "from sklearn.tree import DecisionTreeClassifier"
   ]
  },
  {
   "cell_type": "code",
   "execution_count": 87,
   "id": "582e9caf",
   "metadata": {},
   "outputs": [],
   "source": [
    "decision = DecisionTreeClassifier()"
   ]
  },
  {
   "cell_type": "code",
   "execution_count": 88,
   "id": "3c01b978",
   "metadata": {},
   "outputs": [
    {
     "data": {
      "text/html": [
       "<style>#sk-container-id-3 {color: black;}#sk-container-id-3 pre{padding: 0;}#sk-container-id-3 div.sk-toggleable {background-color: white;}#sk-container-id-3 label.sk-toggleable__label {cursor: pointer;display: block;width: 100%;margin-bottom: 0;padding: 0.3em;box-sizing: border-box;text-align: center;}#sk-container-id-3 label.sk-toggleable__label-arrow:before {content: \"▸\";float: left;margin-right: 0.25em;color: #696969;}#sk-container-id-3 label.sk-toggleable__label-arrow:hover:before {color: black;}#sk-container-id-3 div.sk-estimator:hover label.sk-toggleable__label-arrow:before {color: black;}#sk-container-id-3 div.sk-toggleable__content {max-height: 0;max-width: 0;overflow: hidden;text-align: left;background-color: #f0f8ff;}#sk-container-id-3 div.sk-toggleable__content pre {margin: 0.2em;color: black;border-radius: 0.25em;background-color: #f0f8ff;}#sk-container-id-3 input.sk-toggleable__control:checked~div.sk-toggleable__content {max-height: 200px;max-width: 100%;overflow: auto;}#sk-container-id-3 input.sk-toggleable__control:checked~label.sk-toggleable__label-arrow:before {content: \"▾\";}#sk-container-id-3 div.sk-estimator input.sk-toggleable__control:checked~label.sk-toggleable__label {background-color: #d4ebff;}#sk-container-id-3 div.sk-label input.sk-toggleable__control:checked~label.sk-toggleable__label {background-color: #d4ebff;}#sk-container-id-3 input.sk-hidden--visually {border: 0;clip: rect(1px 1px 1px 1px);clip: rect(1px, 1px, 1px, 1px);height: 1px;margin: -1px;overflow: hidden;padding: 0;position: absolute;width: 1px;}#sk-container-id-3 div.sk-estimator {font-family: monospace;background-color: #f0f8ff;border: 1px dotted black;border-radius: 0.25em;box-sizing: border-box;margin-bottom: 0.5em;}#sk-container-id-3 div.sk-estimator:hover {background-color: #d4ebff;}#sk-container-id-3 div.sk-parallel-item::after {content: \"\";width: 100%;border-bottom: 1px solid gray;flex-grow: 1;}#sk-container-id-3 div.sk-label:hover label.sk-toggleable__label {background-color: #d4ebff;}#sk-container-id-3 div.sk-serial::before {content: \"\";position: absolute;border-left: 1px solid gray;box-sizing: border-box;top: 0;bottom: 0;left: 50%;z-index: 0;}#sk-container-id-3 div.sk-serial {display: flex;flex-direction: column;align-items: center;background-color: white;padding-right: 0.2em;padding-left: 0.2em;position: relative;}#sk-container-id-3 div.sk-item {position: relative;z-index: 1;}#sk-container-id-3 div.sk-parallel {display: flex;align-items: stretch;justify-content: center;background-color: white;position: relative;}#sk-container-id-3 div.sk-item::before, #sk-container-id-3 div.sk-parallel-item::before {content: \"\";position: absolute;border-left: 1px solid gray;box-sizing: border-box;top: 0;bottom: 0;left: 50%;z-index: -1;}#sk-container-id-3 div.sk-parallel-item {display: flex;flex-direction: column;z-index: 1;position: relative;background-color: white;}#sk-container-id-3 div.sk-parallel-item:first-child::after {align-self: flex-end;width: 50%;}#sk-container-id-3 div.sk-parallel-item:last-child::after {align-self: flex-start;width: 50%;}#sk-container-id-3 div.sk-parallel-item:only-child::after {width: 0;}#sk-container-id-3 div.sk-dashed-wrapped {border: 1px dashed gray;margin: 0 0.4em 0.5em 0.4em;box-sizing: border-box;padding-bottom: 0.4em;background-color: white;}#sk-container-id-3 div.sk-label label {font-family: monospace;font-weight: bold;display: inline-block;line-height: 1.2em;}#sk-container-id-3 div.sk-label-container {text-align: center;}#sk-container-id-3 div.sk-container {/* jupyter's `normalize.less` sets `[hidden] { display: none; }` but bootstrap.min.css set `[hidden] { display: none !important; }` so we also need the `!important` here to be able to override the default hidden behavior on the sphinx rendered scikit-learn.org. See: https://github.com/scikit-learn/scikit-learn/issues/21755 */display: inline-block !important;position: relative;}#sk-container-id-3 div.sk-text-repr-fallback {display: none;}</style><div id=\"sk-container-id-3\" class=\"sk-top-container\"><div class=\"sk-text-repr-fallback\"><pre>DecisionTreeClassifier()</pre><b>In a Jupyter environment, please rerun this cell to show the HTML representation or trust the notebook. <br />On GitHub, the HTML representation is unable to render, please try loading this page with nbviewer.org.</b></div><div class=\"sk-container\" hidden><div class=\"sk-item\"><div class=\"sk-estimator sk-toggleable\"><input class=\"sk-toggleable__control sk-hidden--visually\" id=\"sk-estimator-id-3\" type=\"checkbox\" checked><label for=\"sk-estimator-id-3\" class=\"sk-toggleable__label sk-toggleable__label-arrow\">DecisionTreeClassifier</label><div class=\"sk-toggleable__content\"><pre>DecisionTreeClassifier()</pre></div></div></div></div></div>"
      ],
      "text/plain": [
       "DecisionTreeClassifier()"
      ]
     },
     "execution_count": 88,
     "metadata": {},
     "output_type": "execute_result"
    }
   ],
   "source": [
    "decision.fit(X_train_transformed , y_train)"
   ]
  },
  {
   "cell_type": "code",
   "execution_count": 89,
   "id": "4be4a069",
   "metadata": {},
   "outputs": [],
   "source": [
    "y_test_pred = decision.predict(X_test_transformed)"
   ]
  },
  {
   "cell_type": "code",
   "execution_count": 90,
   "id": "50534378",
   "metadata": {},
   "outputs": [
    {
     "data": {
      "text/plain": [
       "0.8885658914728682"
      ]
     },
     "execution_count": 90,
     "metadata": {},
     "output_type": "execute_result"
    }
   ],
   "source": [
    "metrics.accuracy_score(y_test , y_test_pred)"
   ]
  },
  {
   "cell_type": "code",
   "execution_count": 91,
   "id": "dbb1ea25",
   "metadata": {},
   "outputs": [
    {
     "data": {
      "text/html": [
       "<div>\n",
       "<style scoped>\n",
       "    .dataframe tbody tr th:only-of-type {\n",
       "        vertical-align: middle;\n",
       "    }\n",
       "\n",
       "    .dataframe tbody tr th {\n",
       "        vertical-align: top;\n",
       "    }\n",
       "\n",
       "    .dataframe thead th {\n",
       "        text-align: right;\n",
       "    }\n",
       "</style>\n",
       "<table border=\"1\" class=\"dataframe\">\n",
       "  <thead>\n",
       "    <tr style=\"text-align: right;\">\n",
       "      <th></th>\n",
       "      <th>Actual</th>\n",
       "      <th>KNN Regression Predictions</th>\n",
       "      <th>Logistic Regression Predictions</th>\n",
       "      <th>DT Regression Predictions</th>\n",
       "    </tr>\n",
       "  </thead>\n",
       "  <tbody>\n",
       "    <tr>\n",
       "      <th>1366</th>\n",
       "      <td>0</td>\n",
       "      <td>0</td>\n",
       "      <td>0</td>\n",
       "      <td>0</td>\n",
       "    </tr>\n",
       "    <tr>\n",
       "      <th>56</th>\n",
       "      <td>0</td>\n",
       "      <td>0</td>\n",
       "      <td>0</td>\n",
       "      <td>0</td>\n",
       "    </tr>\n",
       "    <tr>\n",
       "      <th>1994</th>\n",
       "      <td>0</td>\n",
       "      <td>0</td>\n",
       "      <td>0</td>\n",
       "      <td>0</td>\n",
       "    </tr>\n",
       "    <tr>\n",
       "      <th>1632</th>\n",
       "      <td>0</td>\n",
       "      <td>0</td>\n",
       "      <td>0</td>\n",
       "      <td>0</td>\n",
       "    </tr>\n",
       "    <tr>\n",
       "      <th>3914</th>\n",
       "      <td>1</td>\n",
       "      <td>0</td>\n",
       "      <td>0</td>\n",
       "      <td>1</td>\n",
       "    </tr>\n",
       "    <tr>\n",
       "      <th>...</th>\n",
       "      <td>...</td>\n",
       "      <td>...</td>\n",
       "      <td>...</td>\n",
       "      <td>...</td>\n",
       "    </tr>\n",
       "    <tr>\n",
       "      <th>914</th>\n",
       "      <td>0</td>\n",
       "      <td>0</td>\n",
       "      <td>0</td>\n",
       "      <td>0</td>\n",
       "    </tr>\n",
       "    <tr>\n",
       "      <th>4476</th>\n",
       "      <td>1</td>\n",
       "      <td>1</td>\n",
       "      <td>0</td>\n",
       "      <td>1</td>\n",
       "    </tr>\n",
       "    <tr>\n",
       "      <th>1851</th>\n",
       "      <td>0</td>\n",
       "      <td>0</td>\n",
       "      <td>0</td>\n",
       "      <td>0</td>\n",
       "    </tr>\n",
       "    <tr>\n",
       "      <th>1369</th>\n",
       "      <td>1</td>\n",
       "      <td>1</td>\n",
       "      <td>0</td>\n",
       "      <td>1</td>\n",
       "    </tr>\n",
       "    <tr>\n",
       "      <th>3058</th>\n",
       "      <td>1</td>\n",
       "      <td>1</td>\n",
       "      <td>0</td>\n",
       "      <td>1</td>\n",
       "    </tr>\n",
       "  </tbody>\n",
       "</table>\n",
       "<p>1032 rows × 4 columns</p>\n",
       "</div>"
      ],
      "text/plain": [
       "      Actual  KNN Regression Predictions  Logistic Regression Predictions  \\\n",
       "1366       0                           0                                0   \n",
       "56         0                           0                                0   \n",
       "1994       0                           0                                0   \n",
       "1632       0                           0                                0   \n",
       "3914       1                           0                                0   \n",
       "...      ...                         ...                              ...   \n",
       "914        0                           0                                0   \n",
       "4476       1                           1                                0   \n",
       "1851       0                           0                                0   \n",
       "1369       1                           1                                0   \n",
       "3058       1                           1                                0   \n",
       "\n",
       "      DT Regression Predictions  \n",
       "1366                          0  \n",
       "56                            0  \n",
       "1994                          0  \n",
       "1632                          0  \n",
       "3914                          1  \n",
       "...                         ...  \n",
       "914                           0  \n",
       "4476                          1  \n",
       "1851                          0  \n",
       "1369                          1  \n",
       "3058                          1  \n",
       "\n",
       "[1032 rows x 4 columns]"
      ]
     },
     "execution_count": 91,
     "metadata": {},
     "output_type": "execute_result"
    }
   ],
   "source": [
    "output_df['DT Regression Predictions'] = y_test_pred\n",
    "\n",
    "output_df\n"
   ]
  },
  {
   "cell_type": "code",
   "execution_count": 92,
   "id": "ce401bf5",
   "metadata": {},
   "outputs": [
    {
     "data": {
      "text/plain": [
       "<matplotlib.legend.Legend at 0x1d87b153fa0>"
      ]
     },
     "execution_count": 92,
     "metadata": {},
     "output_type": "execute_result"
    },
    {
     "data": {
      "image/png": "[encoded data removed]",
      "text/plain": [
       "<Figure size 800x300 with 1 Axes>"
      ]
     },
     "metadata": {},
     "output_type": "display_data"
    }
   ],
   "source": [
    "fig, ax = plt.subplots(figsize=(8,3))\n",
    "\n",
    "sns.histplot(output_df['Actual'], color='blue', alpha=0.5, label=\"actual\")\n",
    "sns.histplot(output_df['DT Regression Predictions'], color='red', alpha=0.5, label=\"prediction\")\n",
    "\n",
    "plt.legend()"
   ]
  },
  {
   "cell_type": "markdown",
   "id": "c8e0db48",
   "metadata": {},
   "source": [
    "# Comparing all the Models"
   ]
  },
  {
   "cell_type": "code",
   "execution_count": 93,
   "id": "43726402",
   "metadata": {},
   "outputs": [
    {
     "data": {
      "text/html": [
       "<div>\n",
       "<style scoped>\n",
       "    .dataframe tbody tr th:only-of-type {\n",
       "        vertical-align: middle;\n",
       "    }\n",
       "\n",
       "    .dataframe tbody tr th {\n",
       "        vertical-align: top;\n",
       "    }\n",
       "\n",
       "    .dataframe thead th {\n",
       "        text-align: right;\n",
       "    }\n",
       "</style>\n",
       "<table border=\"1\" class=\"dataframe\">\n",
       "  <thead>\n",
       "    <tr style=\"text-align: right;\">\n",
       "      <th></th>\n",
       "      <th>Model</th>\n",
       "      <th>Prediction</th>\n",
       "    </tr>\n",
       "  </thead>\n",
       "  <tbody>\n",
       "    <tr>\n",
       "      <th>0</th>\n",
       "      <td>Actual</td>\n",
       "      <td>0</td>\n",
       "    </tr>\n",
       "    <tr>\n",
       "      <th>1</th>\n",
       "      <td>Actual</td>\n",
       "      <td>0</td>\n",
       "    </tr>\n",
       "    <tr>\n",
       "      <th>2</th>\n",
       "      <td>Actual</td>\n",
       "      <td>0</td>\n",
       "    </tr>\n",
       "    <tr>\n",
       "      <th>3</th>\n",
       "      <td>Actual</td>\n",
       "      <td>0</td>\n",
       "    </tr>\n",
       "    <tr>\n",
       "      <th>4</th>\n",
       "      <td>Actual</td>\n",
       "      <td>1</td>\n",
       "    </tr>\n",
       "  </tbody>\n",
       "</table>\n",
       "</div>"
      ],
      "text/plain": [
       "    Model  Prediction\n",
       "0  Actual           0\n",
       "1  Actual           0\n",
       "2  Actual           0\n",
       "3  Actual           0\n",
       "4  Actual           1"
      ]
     },
     "execution_count": 93,
     "metadata": {},
     "output_type": "execute_result"
    }
   ],
   "source": [
    "df_melted = pd.melt(output_df,  var_name='Model', value_name='Prediction')\n",
    "\n",
    "df_melted.head()"
   ]
  },
  {
   "cell_type": "code",
   "execution_count": 94,
   "id": "bb57cc83",
   "metadata": {},
   "outputs": [
    {
     "data": {
      "image/png": "[encoded data removed]",
      "text/plain": [
       "<Figure size 800x300 with 1 Axes>"
      ]
     },
     "metadata": {},
     "output_type": "display_data"
    }
   ],
   "source": [
    "fig, ax = plt.subplots(figsize=(8,3))\n",
    "\n",
    "sns.boxenplot(x='Prediction', y='Model', data=df_melted)\n",
    "plt.title('Comparison of Actual vs. Predicted Values')\n",
    "\n",
    "plt.show()"
   ]
  },
  {
   "cell_type": "code",
   "execution_count": 95,
   "id": "fdb8b425",
   "metadata": {},
   "outputs": [],
   "source": [
    "from sklearn.neighbors import KNeighborsClassifier"
   ]
  },
  {
   "cell_type": "code",
   "execution_count": 96,
   "id": "4087ce60",
   "metadata": {},
   "outputs": [],
   "source": [
    "from sklearn.metrics import accuracy_score"
   ]
  },
  {
   "cell_type": "code",
   "execution_count": 97,
   "id": "79cb8051",
   "metadata": {},
   "outputs": [],
   "source": [
    "train_scores, test_scores = list(), list()"
   ]
  },
  {
   "cell_type": "code",
   "execution_count": 98,
   "id": "8445f4e7",
   "metadata": {},
   "outputs": [],
   "source": [
    "values = [i for i in range(1,21)]"
   ]
  },
  {
   "cell_type": "code",
   "execution_count": 99,
   "id": "0900e27c",
   "metadata": {},
   "outputs": [
    {
     "name": "stdout",
     "output_type": "stream",
     "text": [
      "> 1, train: 1.000, test: 0.915\n",
      "> 2, train: 0.955, test: 0.886\n",
      "> 3, train: 0.963, test: 0.894\n",
      "> 4, train: 0.918, test: 0.873\n",
      "> 5, train: 0.930, test: 0.882\n",
      "> 6, train: 0.898, test: 0.852\n",
      "> 7, train: 0.909, test: 0.858\n",
      "> 8, train: 0.883, test: 0.839\n",
      "> 9, train: 0.889, test: 0.850\n",
      "> 10, train: 0.866, test: 0.836\n",
      "> 11, train: 0.875, test: 0.840\n",
      "> 12, train: 0.860, test: 0.832\n",
      "> 13, train: 0.864, test: 0.835\n",
      "> 14, train: 0.852, test: 0.828\n",
      "> 15, train: 0.857, test: 0.836\n",
      "> 16, train: 0.848, test: 0.824\n",
      "> 17, train: 0.851, test: 0.825\n",
      "> 18, train: 0.845, test: 0.824\n",
      "> 19, train: 0.848, test: 0.828\n",
      "> 20, train: 0.844, test: 0.828\n"
     ]
    }
   ],
   "source": [
    "for i in values:\n",
    "    model = KNeighborsClassifier(n_neighbors = i)\n",
    "    \n",
    "    model.fit(X_train_transformed, y_train)\n",
    "    \n",
    "    \n",
    "    y_train_pred = model.predict(X_train_transformed)\n",
    "    train_score = accuracy_score(y_train, y_train_pred)\n",
    "    train_scores.append(train_score)\n",
    "\n",
    "    y_test_pred = model.predict(X_test_transformed)\n",
    "    test_score = accuracy_score(y_test, y_test_pred)\n",
    "    test_scores.append(test_score)\n",
    "\n",
    "    print('> %d, train: %.3f, test: %.3f' % (i, train_score, test_score))\n",
    "    \n",
    "    "
   ]
  },
  {
   "cell_type": "code",
   "execution_count": null,
   "id": "1e740fac",
   "metadata": {},
   "outputs": [],
   "source": []
  }
 ],
 "metadata": {
  "kernelspec": {
   "display_name": "Python 3 (ipykernel)",
   "language": "python",
   "name": "python3"
  },
  "language_info": {
   "codemirror_mode": {
    "name": "ipython",
    "version": 3
   },
   "file_extension": ".py",
   "mimetype": "text/x-python",
   "name": "python",
   "nbconvert_exporter": "python",
   "pygments_lexer": "ipython3",
   "version": "3.10.9"
  }
 },
 "nbformat": 4,
 "nbformat_minor": 5
}
